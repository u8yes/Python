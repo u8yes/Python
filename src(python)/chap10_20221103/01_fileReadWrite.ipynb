{
 "cells": [
  {
   "cell_type": "markdown",
   "id": "dd2996e1",
   "metadata": {},
   "source": [
    "# fileReadWrite 하기_20221103"
   ]
  },
  {
   "cell_type": "code",
   "execution_count": null,
   "id": "f4b93fa9",
   "metadata": {},
   "outputs": [],
   "source": []
  }
 ],
 "metadata": {
  "kernelspec": {
   "display_name": "Python [conda env:tf_cpu] *",
   "language": "python",
   "name": "conda-env-tf_cpu-py"
  },
  "language_info": {
   "codemirror_mode": {
    "name": "ipython",
    "version": 3
   },
   "file_extension": ".py",
   "mimetype": "text/x-python",
   "name": "python",
   "nbconvert_exporter": "python",
   "pygments_lexer": "ipython3",
   "version": "3.7.13"
  }
 },
 "nbformat": 4,
 "nbformat_minor": 5
}
