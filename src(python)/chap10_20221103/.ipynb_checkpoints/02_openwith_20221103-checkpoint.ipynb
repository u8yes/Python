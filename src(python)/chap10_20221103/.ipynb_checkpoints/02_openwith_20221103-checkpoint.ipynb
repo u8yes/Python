{
 "cells": [
  {
   "cell_type": "code",
   "execution_count": 6,
   "id": "2ad279ab",
   "metadata": {},
   "outputs": [],
   "source": [
    "# file = open(\"text.txt\", 'wt')\n",
    "\n",
    "with open(\"test.txt\", \"w+t\") as file: \n",
    "    # with open()집중관리하기 시작함. #사용하고 있는지 안 하고 있는지 감시함. 안 하면 알아서 close()해줌.\n",
    "    file.write(\"john3:16\")\n",
    "\n"
   ]
  },
  {
   "cell_type": "code",
   "execution_count": 7,
   "id": "77bb19fd",
   "metadata": {},
   "outputs": [],
   "source": [
    "with open(\"test.txt\", 'a+t') as file: # w는 삭제하고 새로 write해줌, a는 기존 내용에 덧붙여짐.\n",
    "    file.write(', World')"
   ]
  },
  {
   "cell_type": "code",
   "execution_count": 9,
   "id": "40d0507a",
   "metadata": {},
   "outputs": [
    {
     "name": "stdout",
     "output_type": "stream",
     "text": [
      "john3:16, World\n"
     ]
    }
   ],
   "source": [
    "with open(\"test.txt\", 'r+t') as file:\n",
    "    str = file.read()\n",
    "    print(str) # john3:16, World # close()가 없어도 전혀 문제가 되지 않는다.\n",
    "    "
   ]
  },
  {
   "cell_type": "markdown",
   "id": "74f0fa71",
   "metadata": {},
   "source": [
    "### 텍스트 파일 읽기 / 쓰기\n",
    "##### 1. 문자열을 담은 리스트를 파일에 쓰는 writelines() 메서드"
   ]
  },
  {
   "cell_type": "code",
   "execution_count": 10,
   "id": "f38f215a",
   "metadata": {},
   "outputs": [],
   "source": [
    "lines = [\"we'll find a way we always have - Interstellar\\n\", # \\n은 줄바꿈이다.\n",
    "         \"I'll find you and I'll kill you - Taken\\n\",\n",
    "         \"I'll be back - Terminator 2\\n\"]"
   ]
  },
  {
   "cell_type": "code",
   "execution_count": 12,
   "id": "5c91b4c1",
   "metadata": {},
   "outputs": [],
   "source": [
    "with open('movie.quotes.txt', 'w') as file:\n",
    "    for line in lines:\n",
    "        file.write(line)"
   ]
  },
  {
   "cell_type": "code",
   "execution_count": 13,
   "id": "6e1d578e",
   "metadata": {},
   "outputs": [],
   "source": [
    "with open('movie.quotes2.txt', 'w') as file:\n",
    "    file.writelines(lines) # 반복문을 이용하지 않고 한번에 write 되게 해줌."
   ]
  },
  {
   "cell_type": "markdown",
   "id": "e26b652d",
   "metadata": {},
   "source": [
    "### 텍스트 파일 읽기 / 쓰기\n",
    "##### 2. 줄 단위로 텍스트를 읽는 readline() & readlines() 메서드"
   ]
  },
  {
   "cell_type": "code",
   "execution_count": 15,
   "id": "05d06156",
   "metadata": {},
   "outputs": [
    {
     "name": "stdout",
     "output_type": "stream",
     "text": [
      "we'll find a way we always have - Interstellar\n",
      "I'll find you and I'll kill you - Taken\n",
      "I'll be back - Terminator 2\n"
     ]
    }
   ],
   "source": [
    "with open('movie.quotes.txt', 'r') as file:\n",
    "    line = file.readline()\n",
    "    \n",
    "    while line != '':\n",
    "        print(line, end= '')\n",
    "        line = file.readline() # 한 자 한 자씩 읽어옴."
   ]
  },
  {
   "cell_type": "code",
   "execution_count": null,
   "id": "29437c90",
   "metadata": {},
   "outputs": [],
   "source": [
    "with open('movie.quotes.txt', 'r') as file:\n",
    "    lines = file.readlines() # 라인별로 읽어옴.\n",
    "    line = ''\n",
    "    \n",
    "    for line in lines:\n",
    "        print(line, end='')"
   ]
  }
 ],
 "metadata": {
  "kernelspec": {
   "display_name": "Python [conda env:tf_cpu] *",
   "language": "python",
   "name": "conda-env-tf_cpu-py"
  },
  "language_info": {
   "codemirror_mode": {
    "name": "ipython",
    "version": 3
   },
   "file_extension": ".py",
   "mimetype": "text/x-python",
   "name": "python",
   "nbconvert_exporter": "python",
   "pygments_lexer": "ipython3",
   "version": "3.7.13"
  }
 },
 "nbformat": 4,
 "nbformat_minor": 5
}
