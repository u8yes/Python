{
 "cells": [
  {
   "cell_type": "code",
   "execution_count": 6,
   "id": "4afb0459",
   "metadata": {},
   "outputs": [],
   "source": [
    "# file = open(\"text.txt\", 'wt')\n",
    "\n",
    "with open(\"test.txt\", \"w+t\") as file: \n",
    "    # with open()집중관리하기 시작함. #사용하고 있는지 안 하고 있는지 감시함. 안 하면 알아서 close()해줌.\n",
    "    file.write(\"john3:16\")\n",
    "\n"
   ]
  },
  {
   "cell_type": "code",
   "execution_count": 7,
   "id": "ef79045b",
   "metadata": {},
   "outputs": [],
   "source": [
    "with open(\"test.txt\", 'a+t') as file: # w는 삭제하고 새로 write해줌, a는 기존 내용에 덧붙여짐.\n",
    "    file.write(', World')"
   ]
  },
  {
   "cell_type": "code",
   "execution_count": 9,
   "id": "9cadde1f",
   "metadata": {},
   "outputs": [
    {
     "name": "stdout",
     "output_type": "stream",
     "text": [
      "john3:16, World\n"
     ]
    }
   ],
   "source": [
    "with open(\"test.txt\", 'r+t') as file:\n",
    "    str = file.read()\n",
    "    print(str) # john3:16, World # close()가 없어도 전혀 문제가 되지 않는다.\n",
    "    "
   ]
  },
  {
   "cell_type": "markdown",
   "id": "adca3b38",
   "metadata": {},
   "source": [
    "### 텍스트 파일 읽기 / 쓰기\n",
    "##### 1. 문자열을 담은 리스트를 파일에 쓰는 writeness() 메서드"
   ]
  },
  {
   "cell_type": "code",
   "execution_count": 10,
   "id": "5a223c53",
   "metadata": {},
   "outputs": [],
   "source": [
    "lines = [\"we'll find a way we always have - Interstellar\\n\", # \\n은 줄바꿈이다.\n",
    "         \"I'll find you and I'll kill you - Taken\\n\",\n",
    "         \"I'll be back - Terminator 2\\n\"]\n"
   ]
  },
  {
   "cell_type": "code",
   "execution_count": 12,
   "id": "ae2d5c70",
   "metadata": {},
   "outputs": [],
   "source": [
    "with open('movie.quotes.txt', 'w') as file:\n",
    "    for line in lines:\n",
    "        file.write(line)"
   ]
  },
  {
   "cell_type": "code",
   "execution_count": null,
   "id": "c3b2f0be",
   "metadata": {},
   "outputs": [],
   "source": []
  }
 ],
 "metadata": {
  "kernelspec": {
   "display_name": "Python [conda env:tf_cpu] *",
   "language": "python",
   "name": "conda-env-tf_cpu-py"
  },
  "language_info": {
   "codemirror_mode": {
    "name": "ipython",
    "version": 3
   },
   "file_extension": ".py",
   "mimetype": "text/x-python",
   "name": "python",
   "nbconvert_exporter": "python",
   "pygments_lexer": "ipython3",
   "version": "3.7.13"
  }
 },
 "nbformat": 4,
 "nbformat_minor": 5
}
