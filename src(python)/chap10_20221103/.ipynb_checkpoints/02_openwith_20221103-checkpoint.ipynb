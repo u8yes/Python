{
 "cells": [
  {
   "cell_type": "code",
   "execution_count": 1,
   "id": "aab96be7",
   "metadata": {},
   "outputs": [],
   "source": [
    "# file = open(\"text.txt\", 'wt')\n",
    "\n",
    "with open(\"test.txt\", \"w+t\") as file: \n",
    "    # with open()집중관리하기 시작함. #사용하고 있는지 안 하고 있는지 감시함. 안 하면 알아서 close()해줌.\n",
    "    file.write(\"john3:16\")\n",
    "\n"
   ]
  },
  {
   "cell_type": "code",
   "execution_count": null,
   "id": "ff42dd02",
   "metadata": {},
   "outputs": [],
   "source": []
  }
 ],
 "metadata": {
  "kernelspec": {
   "display_name": "Python [conda env:tf_cpu] *",
   "language": "python",
   "name": "conda-env-tf_cpu-py"
  },
  "language_info": {
   "codemirror_mode": {
    "name": "ipython",
    "version": 3
   },
   "file_extension": ".py",
   "mimetype": "text/x-python",
   "name": "python",
   "nbconvert_exporter": "python",
   "pygments_lexer": "ipython3",
   "version": "3.7.13"
  }
 },
 "nbformat": 4,
 "nbformat_minor": 5
}
