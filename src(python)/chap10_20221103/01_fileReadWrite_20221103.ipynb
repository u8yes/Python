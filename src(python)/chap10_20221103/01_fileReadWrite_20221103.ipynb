{
 "cells": [
  {
   "cell_type": "code",
   "execution_count": 8,
   "id": "5eb0a9d5",
   "metadata": {},
   "outputs": [],
   "source": [
    "# file에 Write 하기_20221103\n",
    "\n",
    "file = open(\"test.txt\", 'wt') # file을 open하겠다. # write로 설정했기 때문에 출력stream을 만들어줌.\n",
    "file.write(\"hello\")\n",
    "file.close() # 내 자신의 주소값을 null로 만들어준다. # 파이썬이 메모리를 소멸시켜줌.\n"
   ]
  },
  {
   "cell_type": "code",
   "execution_count": 10,
   "id": "42fe891e",
   "metadata": {},
   "outputs": [
    {
     "name": "stdout",
     "output_type": "stream",
     "text": [
      "hello\n"
     ]
    }
   ],
   "source": [
    "# file에서 데이터 읽어오기\n",
    "file = open(\"test.txt\",'rt') # rt는 디폴트이다. read, text모드\n",
    "str = file.read()\n",
    "print(str)\n",
    "file.close()"
   ]
  },
  {
   "cell_type": "code",
   "execution_count": null,
   "id": "e647ed09",
   "metadata": {},
   "outputs": [],
   "source": []
  }
 ],
 "metadata": {
  "kernelspec": {
   "display_name": "Python [conda env:tf_cpu] *",
   "language": "python",
   "name": "conda-env-tf_cpu-py"
  },
  "language_info": {
   "codemirror_mode": {
    "name": "ipython",
    "version": 3
   },
   "file_extension": ".py",
   "mimetype": "text/x-python",
   "name": "python",
   "nbconvert_exporter": "python",
   "pygments_lexer": "ipython3",
   "version": "3.7.13"
  }
 },
 "nbformat": 4,
 "nbformat_minor": 5
}
