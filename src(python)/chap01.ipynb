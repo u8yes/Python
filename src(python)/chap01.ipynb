{
 "cells": [
  {
   "cell_type": "markdown",
   "id": "bc8499c2",
   "metadata": {},
   "source": [
    "# chap01\n",
    "## python 기본 문법\n",
    "### - 출력문"
   ]
  },
  {
   "cell_type": "code",
   "execution_count": 12,
   "id": "a93aece8",
   "metadata": {},
   "outputs": [
    {
     "name": "stdout",
     "output_type": "stream",
     "text": [
      "in the name of Jesus Christ\n"
     ]
    }
   ],
   "source": [
    "print(\"in the name of Jesus Christ\") # 출력 명령문"
   ]
  },
  {
   "cell_type": "code",
   "execution_count": null,
   "id": "0ee1f00a",
   "metadata": {},
   "outputs": [],
   "source": []
  },
  {
   "cell_type": "code",
   "execution_count": 22,
   "id": "8bcae7d6",
   "metadata": {},
   "outputs": [
    {
     "name": "stdout",
     "output_type": "stream",
     "text": [
      "Hello, World!!Happy Jesus Name\n",
      "Hello, World!! Happy Jesus Name\n"
     ]
    }
   ],
   "source": [
    "print(\"Hello, World!!\" + \"Happy Jesus Name\")\n",
    "print(\"Hello, World!!\",\"Happy Jesus Name\") # 띄어쓰기 자동 입력됨"
   ]
  },
  {
   "cell_type": "code",
   "execution_count": null,
   "id": "a8e16b53",
   "metadata": {},
   "outputs": [],
   "source": []
  },
  {
   "cell_type": "code",
   "execution_count": null,
   "id": "763f0b21",
   "metadata": {},
   "outputs": [],
   "source": []
  },
  {
   "cell_type": "markdown",
   "id": "b7b12128",
   "metadata": {},
   "source": [
    "### - 연산기능( + , - , * , / )"
   ]
  },
  {
   "cell_type": "code",
   "execution_count": 25,
   "id": "431d42d2",
   "metadata": {},
   "outputs": [
    {
     "data": {
      "text/plain": [
       "5"
      ]
     },
     "execution_count": 25,
     "metadata": {},
     "output_type": "execute_result"
    }
   ],
   "source": [
    "3 + 2"
   ]
  },
  {
   "cell_type": "code",
   "execution_count": 31,
   "id": "9d9b24e2",
   "metadata": {},
   "outputs": [
    {
     "name": "stdout",
     "output_type": "stream",
     "text": [
      "3.14\n",
      "3.14\n"
     ]
    }
   ],
   "source": [
    "print(3.14)\n",
    "print(\"3.14\")"
   ]
  },
  {
   "cell_type": "code",
   "execution_count": 34,
   "id": "87512c90",
   "metadata": {},
   "outputs": [
    {
     "name": "stdout",
     "output_type": "stream",
     "text": [
      "1 3.14 안녕하세요!!!\n"
     ]
    }
   ],
   "source": [
    "print(1, 3.14, \"안녕하세요!!!\")"
   ]
  },
  {
   "cell_type": "markdown",
   "id": "e8e9ee8a",
   "metadata": {},
   "source": [
    "# - 변수"
   ]
  },
  {
   "cell_type": "code",
   "execution_count": 41,
   "id": "0dae8bc7",
   "metadata": {},
   "outputs": [],
   "source": [
    "# 자바 : int, double, char, boolean, String\n",
    "# Integer a = Integer(5)\n",
    "# Integer a = 5;\n",
    "a = 5\n",
    "b = 10"
   ]
  },
  {
   "cell_type": "code",
   "execution_count": 42,
   "id": "cf98c943",
   "metadata": {},
   "outputs": [
    {
     "data": {
      "text/plain": [
       "15"
      ]
     },
     "execution_count": 42,
     "metadata": {},
     "output_type": "execute_result"
    }
   ],
   "source": [
    "a+b"
   ]
  }
 ],
 "metadata": {
  "kernelspec": {
   "display_name": "Python [conda env:tf_cpu] *",
   "language": "python",
   "name": "conda-env-tf_cpu-py"
  },
  "language_info": {
   "codemirror_mode": {
    "name": "ipython",
    "version": 3
   },
   "file_extension": ".py",
   "mimetype": "text/x-python",
   "name": "python",
   "nbconvert_exporter": "python",
   "pygments_lexer": "ipython3",
   "version": "3.7.13"
  }
 },
 "nbformat": 4,
 "nbformat_minor": 5
}
