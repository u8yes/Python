{
 "cells": [
  {
   "cell_type": "markdown",
   "id": "51004bb9",
   "metadata": {},
   "source": [
    "# chap01\n",
    "## python 기본 문법\n",
    "### - 출력문"
   ]
  },
  {
   "cell_type": "code",
   "execution_count": 12,
   "id": "6938c8ce",
   "metadata": {},
   "outputs": [
    {
     "name": "stdout",
     "output_type": "stream",
     "text": [
      "in the name of Jesus Christ\n"
     ]
    }
   ],
   "source": [
    "print(\"in the name of Jesus Christ\") # 출력 명령문"
   ]
  },
  {
   "cell_type": "code",
   "execution_count": 22,
   "id": "d9e19343",
   "metadata": {},
   "outputs": [
    {
     "name": "stdout",
     "output_type": "stream",
     "text": [
      "Hello, World!!Happy Jesus Name\n",
      "Hello, World!! Happy Jesus Name\n"
     ]
    }
   ],
   "source": [
    "print(\"Hello, World!!\" + \"Happy Jesus Name\")\n",
    "print(\"Hello, World!!\",\"Happy Jesus Name\") # 띄어쓰기 자동 입력됨"
   ]
  },
  {
   "cell_type": "markdown",
   "id": "e58bd05e",
   "metadata": {},
   "source": [
    "### - 연산기능( + , - , * , / )"
   ]
  },
  {
   "cell_type": "code",
   "execution_count": 25,
   "id": "d27c8d3a",
   "metadata": {},
   "outputs": [
    {
     "data": {
      "text/plain": [
       "5"
      ]
     },
     "execution_count": 25,
     "metadata": {},
     "output_type": "execute_result"
    }
   ],
   "source": [
    "3 + 2"
   ]
  },
  {
   "cell_type": "code",
   "execution_count": 31,
   "id": "3c53f0af",
   "metadata": {},
   "outputs": [
    {
     "name": "stdout",
     "output_type": "stream",
     "text": [
      "3.14\n",
      "3.14\n"
     ]
    }
   ],
   "source": [
    "print(3.14)\n",
    "print(\"3.14\")"
   ]
  },
  {
   "cell_type": "code",
   "execution_count": 34,
   "id": "a49b2076",
   "metadata": {},
   "outputs": [
    {
     "name": "stdout",
     "output_type": "stream",
     "text": [
      "1 3.14 안녕하세요!!!\n"
     ]
    }
   ],
   "source": [
    "print(1, 3.14, \"안녕하세요!!!\")"
   ]
  },
  {
   "cell_type": "markdown",
   "id": "43702af4",
   "metadata": {},
   "source": [
    "# - 변수"
   ]
  },
  {
   "cell_type": "code",
   "execution_count": null,
   "id": "0a6b2147",
   "metadata": {},
   "outputs": [],
   "source": []
  }
 ],
 "metadata": {
  "kernelspec": {
   "display_name": "Python [conda env:tf_cpu] *",
   "language": "python",
   "name": "conda-env-tf_cpu-py"
  },
  "language_info": {
   "codemirror_mode": {
    "name": "ipython",
    "version": 3
   },
   "file_extension": ".py",
   "mimetype": "text/x-python",
   "name": "python",
   "nbconvert_exporter": "python",
   "pygments_lexer": "ipython3",
   "version": "3.7.13"
  }
 },
 "nbformat": 4,
 "nbformat_minor": 5
}
