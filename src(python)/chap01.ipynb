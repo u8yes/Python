{
 "cells": [
  {
   "cell_type": "markdown",
   "id": "38f97f8f",
   "metadata": {},
   "source": [
    "# chap01\n",
    "## python 기본 문법\n",
    "### - 출력문"
   ]
  },
  {
   "cell_type": "code",
   "execution_count": 12,
   "id": "286e02fe",
   "metadata": {},
   "outputs": [
    {
     "name": "stdout",
     "output_type": "stream",
     "text": [
      "in the name of Jesus Christ\n"
     ]
    }
   ],
   "source": [
    "print(\"in the name of Jesus Christ\") # 출력 명령문"
   ]
  },
  {
   "cell_type": "code",
   "execution_count": null,
   "id": "e8b31bcc",
   "metadata": {},
   "outputs": [],
   "source": []
  },
  {
   "cell_type": "code",
   "execution_count": 22,
   "id": "97717a9d",
   "metadata": {},
   "outputs": [
    {
     "name": "stdout",
     "output_type": "stream",
     "text": [
      "Hello, World!!Happy Jesus Name\n",
      "Hello, World!! Happy Jesus Name\n"
     ]
    }
   ],
   "source": [
    "print(\"Hello, World!!\" + \"Happy Jesus Name\")\n",
    "print(\"Hello, World!!\",\"Happy Jesus Name\") # 띄어쓰기 자동 입력됨"
   ]
  },
  {
   "cell_type": "code",
   "execution_count": null,
   "id": "59964162",
   "metadata": {},
   "outputs": [],
   "source": []
  },
  {
   "cell_type": "code",
   "execution_count": null,
   "id": "55820565",
   "metadata": {},
   "outputs": [],
   "source": []
  },
  {
   "cell_type": "markdown",
   "id": "fd520778",
   "metadata": {},
   "source": [
    "### - 연산기능( + , - , * , / )"
   ]
  },
  {
   "cell_type": "code",
   "execution_count": 25,
   "id": "0804706b",
   "metadata": {},
   "outputs": [
    {
     "data": {
      "text/plain": [
       "5"
      ]
     },
     "execution_count": 25,
     "metadata": {},
     "output_type": "execute_result"
    }
   ],
   "source": [
    "3 + 2"
   ]
  },
  {
   "cell_type": "code",
   "execution_count": 31,
   "id": "0ae8be99",
   "metadata": {},
   "outputs": [
    {
     "name": "stdout",
     "output_type": "stream",
     "text": [
      "3.14\n",
      "3.14\n"
     ]
    }
   ],
   "source": [
    "print(3.14)\n",
    "print(\"3.14\")"
   ]
  },
  {
   "cell_type": "code",
   "execution_count": 53,
   "id": "d3c61c8e",
   "metadata": {},
   "outputs": [
    {
     "name": "stdout",
     "output_type": "stream",
     "text": [
      "1 3.18 시몬아!!!\n"
     ]
    }
   ],
   "source": [
    "print(1, 3.18, \"시몬아!!!\")"
   ]
  },
  {
   "cell_type": "markdown",
   "id": "fd3f06e6",
   "metadata": {},
   "source": [
    "# - 변수"
   ]
  },
  {
   "cell_type": "code",
   "execution_count": 41,
   "id": "a36638b6",
   "metadata": {},
   "outputs": [],
   "source": [
    "# 자바 : int, double, char, boolean, String\n",
    "# Integer a = Integer(5)\n",
    "# Integer a = 5;\n",
    "a = 5\n",
    "b = 10"
   ]
  },
  {
   "cell_type": "code",
   "execution_count": 43,
   "id": "6aec8284",
   "metadata": {},
   "outputs": [
    {
     "data": {
      "text/plain": [
       "15"
      ]
     },
     "execution_count": 43,
     "metadata": {},
     "output_type": "execute_result"
    }
   ],
   "source": [
    "a+b"
   ]
  },
  {
   "cell_type": "code",
   "execution_count": 48,
   "id": "75292943",
   "metadata": {},
   "outputs": [
    {
     "name": "stdout",
     "output_type": "stream",
     "text": [
      "10 20\n"
     ]
    }
   ],
   "source": [
    "# int num1 = 10, num2 = 20;\n",
    "x = 10 \n",
    "y = 20\n",
    "print(x, y)"
   ]
  },
  {
   "cell_type": "code",
   "execution_count": 50,
   "id": "3ce1b9d5",
   "metadata": {},
   "outputs": [
    {
     "name": "stdout",
     "output_type": "stream",
     "text": [
      "777 888\n"
     ]
    }
   ],
   "source": [
    "x, y = 777, 888\n",
    "print(x, y)"
   ]
  },
  {
   "cell_type": "code",
   "execution_count": 51,
   "id": "970a7377",
   "metadata": {},
   "outputs": [
    {
     "name": "stdout",
     "output_type": "stream",
     "text": [
      "888 777\n"
     ]
    }
   ],
   "source": [
    "x, y = y, x\n",
    "print(x, y)"
   ]
  },
  {
   "cell_type": "code",
   "execution_count": null,
   "id": "8dfd9b99",
   "metadata": {},
   "outputs": [],
   "source": []
  }
 ],
 "metadata": {
  "kernelspec": {
   "display_name": "Python [conda env:tf_cpu] *",
   "language": "python",
   "name": "conda-env-tf_cpu-py"
  },
  "language_info": {
   "codemirror_mode": {
    "name": "ipython",
    "version": 3
   },
   "file_extension": ".py",
   "mimetype": "text/x-python",
   "name": "python",
   "nbconvert_exporter": "python",
   "pygments_lexer": "ipython3",
   "version": "3.7.13"
  }
 },
 "nbformat": 4,
 "nbformat_minor": 5
}
