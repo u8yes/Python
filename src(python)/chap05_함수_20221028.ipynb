{
 "cells": [
  {
   "cell_type": "markdown",
   "id": "ec22dc36",
   "metadata": {},
   "source": [
    "# 함수 정의 방법_20221028\n"
   ]
  },
  {
   "cell_type": "code",
   "execution_count": 2,
   "id": "1d89368f",
   "metadata": {},
   "outputs": [
    {
     "name": "stdout",
     "output_type": "stream",
     "text": [
      "welcome Holy Spirit!!!!\n"
     ]
    }
   ],
   "source": [
    "def hello():\n",
    "    print(\"welcome Holy Spirit!!!!\")\n",
    "    \n",
    "hello() # 호출 방법"
   ]
  },
  {
   "cell_type": "code",
   "execution_count": 5,
   "id": "6fc9a198",
   "metadata": {},
   "outputs": [
    {
     "name": "stdout",
     "output_type": "stream",
     "text": [
      "10\n",
      "<function my_abs at 0x000001C7A7077828>\n"
     ]
    }
   ],
   "source": [
    "# 호출과 반환\n",
    "\n",
    "def my_abs(arg):\n",
    "    if(arg < 0):\n",
    "        result = arg * -1\n",
    "    else:\n",
    "        result = arg\n",
    "    \n",
    "    return result\n",
    "\n",
    "# my_abs() # TypeError\n",
    "print(my_abs(-10))\n",
    "print(my_abs) # 할당된 주소값 변환"
   ]
  },
  {
   "cell_type": "code",
   "execution_count": 6,
   "id": "69c1a5be",
   "metadata": {},
   "outputs": [
    {
     "name": "stdout",
     "output_type": "stream",
     "text": [
      "안녕하세요.\n",
      "안녕하세요.\n",
      "안녕하세요.\n"
     ]
    }
   ],
   "source": [
    "# 인자(argument) 이름의 올바른 예\n",
    "\n",
    "def print_string1(text, count):\n",
    "    for i in range(count):\n",
    "        print(text)\n",
    "        \n",
    "print_string1(\"안녕하세요.\", 3)        "
   ]
  },
  {
   "cell_type": "code",
   "execution_count": 12,
   "id": "0cb1aab5",
   "metadata": {
    "scrolled": true
   },
   "outputs": [
    {
     "name": "stdout",
     "output_type": "stream",
     "text": [
      "안녕하세요.\n"
     ]
    }
   ],
   "source": [
    "# 기본값 인자(Default Argument Value)\n",
    "\n",
    "def print_string2(text, count=1):\n",
    "    for i in range(count):\n",
    "        print(text)\n",
    "        \n",
    "print_string2(\"안녕하세요.\")"
   ]
  },
  {
   "cell_type": "markdown",
   "id": "748fe494",
   "metadata": {},
   "source": [
    "## 키워드 인자(Keyword Argument)_20221028\n",
    "    : 호출자가 매개변수의 이름을 일일이 지정해 데이터를 입력하는 것."
   ]
  },
  {
   "cell_type": "code",
   "execution_count": 14,
   "id": "2466a6f1",
   "metadata": {},
   "outputs": [],
   "source": [
    "def print_personel1(name, position=\"staff\", nationality=\"korea\"):\n",
    "    print(f\"name = {name}\")\n",
    "    print(f\"position = {position}\")\n",
    "    print(f\"nationality = {nationality}\")\n",
    "\n"
   ]
  },
  {
   "cell_type": "code",
   "execution_count": 15,
   "id": "9549fc8b",
   "metadata": {
    "scrolled": true
   },
   "outputs": [
    {
     "name": "stdout",
     "output_type": "stream",
     "text": [
      "name = 홍길동\n",
      "position = student\n",
      "nationality = American\n"
     ]
    }
   ],
   "source": [
    "print_personel1(\"Jesus\", \"carpenter\", \"American\")"
   ]
  },
  {
   "cell_type": "code",
   "execution_count": 18,
   "id": "988039e0",
   "metadata": {},
   "outputs": [
    {
     "name": "stdout",
     "output_type": "stream",
     "text": [
      "name = 홍길동\n",
      "position = student\n",
      "nationality = korea\n"
     ]
    }
   ],
   "source": [
    "print_personel1(\"홍길동\", \"carpenter\")"
   ]
  },
  {
   "cell_type": "code",
   "execution_count": 19,
   "id": "a66bd7d8",
   "metadata": {},
   "outputs": [
    {
     "name": "stdout",
     "output_type": "stream",
     "text": [
      "name = 홍길동\n",
      "position = staff\n",
      "nationality = korea\n"
     ]
    }
   ],
   "source": [
    "print_personel1(\"홍길동\")"
   ]
  },
  {
   "cell_type": "code",
   "execution_count": 20,
   "id": "98baa705",
   "metadata": {},
   "outputs": [
    {
     "name": "stdout",
     "output_type": "stream",
     "text": [
      "name = 베드로\n",
      "position = staff\n",
      "nationality = korea\n"
     ]
    }
   ],
   "source": [
    "print_personel1(name = \"베드로\")"
   ]
  },
  {
   "cell_type": "code",
   "execution_count": 22,
   "id": "4e91d4bd",
   "metadata": {},
   "outputs": [
    {
     "ename": "TypeError",
     "evalue": "print_personel1() missing 1 required positional argument: 'name'",
     "output_type": "error",
     "traceback": [
      "\u001b[1;31m---------------------------------------------------------------------------\u001b[0m",
      "\u001b[1;31mTypeError\u001b[0m                                 Traceback (most recent call last)",
      "\u001b[1;32m~\\AppData\\Local\\Temp\\ipykernel_3064\\4017621840.py\u001b[0m in \u001b[0;36m<module>\u001b[1;34m\u001b[0m\n\u001b[1;32m----> 1\u001b[1;33m \u001b[0mprint_personel1\u001b[0m\u001b[1;33m(\u001b[0m\u001b[0mnationality\u001b[0m\u001b[1;33m=\u001b[0m\u001b[1;34m\"israel\"\u001b[0m\u001b[1;33m)\u001b[0m\u001b[1;33m\u001b[0m\u001b[1;33m\u001b[0m\u001b[0m\n\u001b[0m",
      "\u001b[1;31mTypeError\u001b[0m: print_personel1() missing 1 required positional argument: 'name'"
     ]
    }
   ],
   "source": [
    "print_personel1(nationality=\"israel\") # TypeError - name에 데이터 미전달."
   ]
  },
  {
   "cell_type": "code",
   "execution_count": 24,
   "id": "62452fa0",
   "metadata": {},
   "outputs": [
    {
     "name": "stdout",
     "output_type": "stream",
     "text": [
      "name = 이승만\n",
      "position = staff\n",
      "nationality = korea\n"
     ]
    }
   ],
   "source": [
    "print_personel1(name=\"이승만\", nationality=\"korea\")"
   ]
  },
  {
   "cell_type": "code",
   "execution_count": 25,
   "id": "425b85fb",
   "metadata": {},
   "outputs": [
    {
     "name": "stdout",
     "output_type": "stream",
     "text": [
      "name = 박명수\n",
      "position = business\n",
      "nationality = korea\n"
     ]
    }
   ],
   "source": [
    "print_personel1(position=\"business\", name=\"박명수\")"
   ]
  },
  {
   "cell_type": "code",
   "execution_count": 26,
   "id": "4da3911d",
   "metadata": {},
   "outputs": [
    {
     "ename": "TypeError",
     "evalue": "print_personel1() got an unexpected keyword argument 'pos'",
     "output_type": "error",
     "traceback": [
      "\u001b[1;31m---------------------------------------------------------------------------\u001b[0m",
      "\u001b[1;31mTypeError\u001b[0m                                 Traceback (most recent call last)",
      "\u001b[1;32m~\\AppData\\Local\\Temp\\ipykernel_3064\\3432787250.py\u001b[0m in \u001b[0;36m<module>\u001b[1;34m\u001b[0m\n\u001b[1;32m----> 1\u001b[1;33m \u001b[0mprint_personel1\u001b[0m\u001b[1;33m(\u001b[0m\u001b[0mpos\u001b[0m\u001b[1;33m=\u001b[0m\u001b[1;34m\"business\"\u001b[0m\u001b[1;33m,\u001b[0m \u001b[0mname\u001b[0m\u001b[1;33m=\u001b[0m\u001b[1;34m\"박명수\"\u001b[0m\u001b[1;33m)\u001b[0m\u001b[1;33m\u001b[0m\u001b[1;33m\u001b[0m\u001b[0m\n\u001b[0m",
      "\u001b[1;31mTypeError\u001b[0m: print_personel1() got an unexpected keyword argument 'pos'"
     ]
    }
   ],
   "source": [
    "print_personel1(pos=\"business\", name=\"박명수\") # TypeError # 매개변수 이름을 축약해서 쓰는 건 'R'에서만 가능함"
   ]
  },
  {
   "cell_type": "markdown",
   "id": "fd6191af",
   "metadata": {},
   "source": [
    "# - 가변 매개 변수(Arbitrary Argument List)"
   ]
  },
  {
   "cell_type": "code",
   "execution_count": 32,
   "id": "b1625181",
   "metadata": {},
   "outputs": [
    {
     "name": "stdout",
     "output_type": "stream",
     "text": [
      "<class 'tuple'>\n",
      "세상을 이처럼 사랑하사 독생자 예수를 주셨느니라 (요3:16)\n"
     ]
    }
   ],
   "source": [
    "def merge_string(*text_list): # 계속 받는 인자에 대해 매개변수를 여러개 받을 수 있음\n",
    "    print(type(text_list)) # <class 'tuple'>\n",
    "    \n",
    "    result = \"\"\n",
    "    for s in text_list:\n",
    "        result += s\n",
    "        \n",
    "    return result\n",
    "\n",
    "print(merge_string('세상을 이처럼 ', '사랑하사 ', '독생자 예수를 주셨느니라 (요3:16)'))"
   ]
  },
  {
   "cell_type": "code",
   "execution_count": 35,
   "id": "fd283dfd",
   "metadata": {},
   "outputs": [
    {
     "name": "stdout",
     "output_type": "stream",
     "text": [
      "<class 'dict'>\n",
      "안정환 = 축구\n",
      "류현진 = 야구\n",
      "서장훈 = 농구\n"
     ]
    }
   ],
   "source": [
    "def print_team(**players): # **은 딕셔너리 형태로 가변 매개 변수를 정해준다.\n",
    "    print(type(players))\n",
    "    \n",
    "    for k in players.keys():\n",
    "        print(f\"{k} = {players[k]}\")\n",
    "        \n",
    "print_team(안정환=\"축구\", 류현진=\"야구\", 서장훈=\"농구\")"
   ]
  },
  {
   "cell_type": "code",
   "execution_count": 36,
   "id": "10350418",
   "metadata": {},
   "outputs": [],
   "source": [
    "def print_args1(argc, *argv):\n",
    "    for i in range(argc):\n",
    "        print(argv[i])"
   ]
  },
  {
   "cell_type": "code",
   "execution_count": 42,
   "id": "62d80681",
   "metadata": {},
   "outputs": [
    {
     "ename": "SyntaxError",
     "evalue": "positional argument follows keyword argument (3172397137.py, line 1)",
     "output_type": "error",
     "traceback": [
      "\u001b[1;36m  File \u001b[1;32m\"C:\\Users\\tjouen-jr\\AppData\\Local\\Temp\\ipykernel_3064\\3172397137.py\"\u001b[1;36m, line \u001b[1;32m1\u001b[0m\n\u001b[1;33m    print_args1(argc = 3, \"박호종\", \"이승만\", \"베드로\")\u001b[0m\n\u001b[1;37m                         ^\u001b[0m\n\u001b[1;31mSyntaxError\u001b[0m\u001b[1;31m:\u001b[0m positional argument follows keyword argument\n"
     ]
    }
   ],
   "source": [
    "# 주의\n",
    "print_args1(argc = 3, \"박호종\", \"이승만\", \"베드로\") # SyntaxError"
   ]
  },
  {
   "cell_type": "code",
   "execution_count": 44,
   "id": "594baee5",
   "metadata": {},
   "outputs": [
    {
     "ename": "SyntaxError",
     "evalue": "positional argument follows keyword argument (1335865758.py, line 2)",
     "output_type": "error",
     "traceback": [
      "\u001b[1;36m  File \u001b[1;32m\"C:\\Users\\tjouen-jr\\AppData\\Local\\Temp\\ipykernel_3064\\1335865758.py\"\u001b[1;36m, line \u001b[1;32m2\u001b[0m\n\u001b[1;33m    print_args1(\"박호종\", argc = 3, \"이승만\", \"베드로\") # SyntaxError\u001b[0m\n\u001b[1;37m                                      ^\u001b[0m\n\u001b[1;31mSyntaxError\u001b[0m\u001b[1;31m:\u001b[0m positional argument follows keyword argument\n"
     ]
    }
   ],
   "source": [
    "# 주의\n",
    "print_args1(\"박호종\", argc = 3, \"이승만\", \"베드로\") # SyntaxError"
   ]
  },
  {
   "cell_type": "code",
   "execution_count": 52,
   "id": "98786422",
   "metadata": {},
   "outputs": [],
   "source": [
    "def print_args2(*argv, argc):\n",
    "    for i in range(argc):\n",
    "        print(argv[i])"
   ]
  },
  {
   "cell_type": "code",
   "execution_count": 56,
   "id": "5c5a77a4",
   "metadata": {},
   "outputs": [
    {
     "name": "stdout",
     "output_type": "stream",
     "text": [
      "레비스탕스\n",
      "더크로스처치\n",
      "박호종\n"
     ]
    }
   ],
   "source": [
    "print_args2(\"레비스탕스\", \"더크로스처치\", \"박호종\", argc=3) # argc=3를 전달해주면 제대로 작동하기 시작함. \n",
    "# 하지만 이전에는 모두 가변인자로 판단하게 되기 때문에 주의(argc를 넣지 않고 숫자 3만 넣으면 가변인자로 인식하게 된다.)"
   ]
  },
  {
   "cell_type": "code",
   "execution_count": 66,
   "id": "09462473",
   "metadata": {},
   "outputs": [
    {
     "name": "stdout",
     "output_type": "stream",
     "text": [
      "15\n"
     ]
    }
   ],
   "source": [
    "# 호출자에게 반환하기\n",
    "def multiply(x1, x2):\n",
    "    return x1 * x2         # 1. 함수 즉시 종료 / 2. 호출자에게 결과 전달\n",
    "\n",
    "result = multiply(3,5)\n",
    "print(result)"
   ]
  },
  {
   "cell_type": "code",
   "execution_count": 68,
   "id": "e83d7cfa",
   "metadata": {},
   "outputs": [],
   "source": [
    "# 한 함수 안에 여러 개의 return 배치 가능.\n",
    "\n",
    "def my_abs1(arg):\n",
    "    if arg < 0: # 음수일 경우에 return arg * -1\n",
    "        return arg * -1\n",
    "    else: # 양수일 경우에 return arg\n",
    "        return arg"
   ]
  },
  {
   "cell_type": "code",
   "execution_count": 69,
   "id": "0e553465",
   "metadata": {},
   "outputs": [
    {
     "name": "stdout",
     "output_type": "stream",
     "text": [
      "50\n"
     ]
    }
   ],
   "source": [
    "result = my_abs1(-50)\n",
    "print(result)"
   ]
  },
  {
   "cell_type": "code",
   "execution_count": 70,
   "id": "fed6ac8e",
   "metadata": {},
   "outputs": [
    {
     "name": "stdout",
     "output_type": "stream",
     "text": [
      "None\n"
     ]
    }
   ],
   "source": [
    "# 주의\n",
    "def my_abs2(arg):\n",
    "    if arg < 0: # 음수일 경우에 return arg * -1\n",
    "        return arg * -1\n",
    "    elif(arg > 0): # 양수일 경우에 return arg\n",
    "        return arg\n",
    "    \n",
    "result = my_abs2(0)\n",
    "print(result) # None = 'R'에서의 NA와 같다. # return 값이 하나도 없을 때 None이라고 알려준다."
   ]
  },
  {
   "cell_type": "code",
   "execution_count": null,
   "id": "ab75a738",
   "metadata": {},
   "outputs": [],
   "source": []
  }
 ],
 "metadata": {
  "kernelspec": {
   "display_name": "Python 3 (ipykernel)",
   "language": "python",
   "name": "python3"
  },
  "language_info": {
   "codemirror_mode": {
    "name": "ipython",
    "version": 3
   },
   "file_extension": ".py",
   "mimetype": "text/x-python",
   "name": "python",
   "nbconvert_exporter": "python",
   "pygments_lexer": "ipython3",
   "version": "3.7.13"
  }
 },
 "nbformat": 4,
 "nbformat_minor": 5
}
