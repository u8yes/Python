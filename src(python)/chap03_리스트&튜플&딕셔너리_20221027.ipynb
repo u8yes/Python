{
 "cells": [
  {
   "cell_type": "markdown",
   "id": "c91d591c",
   "metadata": {},
   "source": [
    "# 리스트 (List)_20221027\n",
    "### - 리스트 저장 형태"
   ]
  },
  {
   "cell_type": "code",
   "execution_count": 4,
   "id": "26d266fd",
   "metadata": {},
   "outputs": [
    {
     "name": "stdout",
     "output_type": "stream",
     "text": [
      "['베드로', '요한', '야고보']\n",
      "<class 'list'>\n"
     ]
    }
   ],
   "source": [
    "a = [\"베드로\", \"요한\", \"야고보\"]\n",
    "print(a)\n",
    "print(type(a))"
   ]
  },
  {
   "cell_type": "code",
   "execution_count": 12,
   "id": "09b03428",
   "metadata": {},
   "outputs": [
    {
     "name": "stdout",
     "output_type": "stream",
     "text": [
      "베드로\n",
      "요한\n",
      "야고보\n"
     ]
    }
   ],
   "source": [
    "# 데이터 접근\n",
    "print(a[0])\n",
    "print(a[1])\n",
    "print(a[2])\n",
    "# print(a[3]) : IndexError"
   ]
  },
  {
   "cell_type": "code",
   "execution_count": 19,
   "id": "41959bf3",
   "metadata": {},
   "outputs": [
    {
     "name": "stdout",
     "output_type": "stream",
     "text": [
      "[1, 2, 3, 4, 5]\n",
      "[6, 7, 8, 9, 10]\n",
      "[4, 5, 6]\n"
     ]
    }
   ],
   "source": [
    "# 슬라이싱 기능\n",
    "x = [1,2,3,4,5,6,7,8,9,10]\n",
    "print(x[0:5]) # 0,1,2,3,4까지만 데이터를 가져와라\n",
    "print(x[5:])\n",
    "print(x[3:6])\n",
    "# print(x[3:6, 7]) # TypeError, R에서는 가능했었다."
   ]
  },
  {
   "cell_type": "code",
   "execution_count": 35,
   "id": "69c78dca",
   "metadata": {},
   "outputs": [
    {
     "name": "stdout",
     "output_type": "stream",
     "text": [
      "[1, 2, 3, 4, 5, 6, 7, 8, 9, 10]\n"
     ]
    }
   ],
   "source": [
    "# '+' 연산자를 통한 리스트간의 결합 가능.\n",
    "x = [1,2,3,4,5]\n",
    "y = [6,7,8,9,10]\n",
    "print(x + y)"
   ]
  },
  {
   "cell_type": "code",
   "execution_count": 30,
   "id": "a62a8134",
   "metadata": {},
   "outputs": [
    {
     "name": "stdout",
     "output_type": "stream",
     "text": [
      "[1, 2, 888, 4, 5]\n",
      "5\n"
     ]
    }
   ],
   "source": [
    "# 특정 위치에 있는 데이터를 변경.\n",
    "x = [1,2,3,4,5]\n",
    "x[2] = 888\n",
    "print(x)\n",
    "print(len(x))"
   ]
  },
  {
   "cell_type": "code",
   "execution_count": 31,
   "id": "7518aa8f",
   "metadata": {},
   "outputs": [
    {
     "name": "stdout",
     "output_type": "stream",
     "text": [
      "[1, 2, 888, 4]\n"
     ]
    }
   ],
   "source": [
    "# 리스트에서 항목 삭제하기\n",
    "del x[4]\n",
    "print(x)"
   ]
  },
  {
   "cell_type": "code",
   "execution_count": 32,
   "id": "79248be9",
   "metadata": {},
   "outputs": [
    {
     "name": "stdout",
     "output_type": "stream",
     "text": [
      "[1, 3, 5, 7]\n"
     ]
    }
   ],
   "source": [
    "x = [1,3,5]\n",
    "x.append(7)\n",
    "print(x)"
   ]
  },
  {
   "cell_type": "code",
   "execution_count": 36,
   "id": "96896d28",
   "metadata": {},
   "outputs": [
    {
     "name": "stdout",
     "output_type": "stream",
     "text": [
      "[1, 2, 3, 4, 5, 9, 11, 13]\n"
     ]
    }
   ],
   "source": [
    "y = [9,11,13]\n",
    "x.extend(y)\n",
    "print(x)"
   ]
  },
  {
   "cell_type": "code",
   "execution_count": 37,
   "id": "6b519e10",
   "metadata": {},
   "outputs": [
    {
     "name": "stdout",
     "output_type": "stream",
     "text": [
      "[1, 777, 2, 3, 4, 5, 9, 11, 13]\n"
     ]
    }
   ],
   "source": [
    "x.insert(1,777) # 1의 위치에다가 777숫자를 삽입.\n",
    "print(x)"
   ]
  },
  {
   "cell_type": "code",
   "execution_count": 38,
   "id": "263964b0",
   "metadata": {},
   "outputs": [
    {
     "name": "stdout",
     "output_type": "stream",
     "text": [
      "[1, 777, 2, 3, 4, 5, 9, 13]\n"
     ]
    }
   ],
   "source": [
    "x.remove(11) # 삭제 값 지장\n",
    "print(x)"
   ]
  },
  {
   "cell_type": "code",
   "execution_count": 39,
   "id": "cdaf6c77",
   "metadata": {},
   "outputs": [
    {
     "ename": "ValueError",
     "evalue": "list.remove(x): x not in list",
     "output_type": "error",
     "traceback": [
      "\u001b[1;31m---------------------------------------------------------------------------\u001b[0m",
      "\u001b[1;31mValueError\u001b[0m                                Traceback (most recent call last)",
      "\u001b[1;32m~\\AppData\\Local\\Temp\\ipykernel_9648\\1217536138.py\u001b[0m in \u001b[0;36m<module>\u001b[1;34m\u001b[0m\n\u001b[1;32m----> 1\u001b[1;33m \u001b[0mx\u001b[0m\u001b[1;33m.\u001b[0m\u001b[0mremove\u001b[0m\u001b[1;33m(\u001b[0m\u001b[1;36m11\u001b[0m\u001b[1;33m)\u001b[0m\u001b[1;33m\u001b[0m\u001b[1;33m\u001b[0m\u001b[0m\n\u001b[0m",
      "\u001b[1;31mValueError\u001b[0m: list.remove(x): x not in list"
     ]
    }
   ],
   "source": [
    "x.remove(11) # ValueError"
   ]
  },
  {
   "cell_type": "code",
   "execution_count": 41,
   "id": "ebec883a",
   "metadata": {},
   "outputs": [
    {
     "name": "stdout",
     "output_type": "stream",
     "text": [
      "[1, 3, 4, 5, 9, 13]\n"
     ]
    }
   ],
   "source": [
    "x.pop(1) # 인덱스 지정. # 꺼내오고 나서 나머지 값만이 담겨짐\n",
    "print(x)"
   ]
  },
  {
   "cell_type": "code",
   "execution_count": 42,
   "id": "1a165ad0",
   "metadata": {},
   "outputs": [
    {
     "name": "stdout",
     "output_type": "stream",
     "text": [
      "2\n"
     ]
    }
   ],
   "source": [
    "x = ['abc', 'def', 'ghi'] # 0:'abc', 1:'def', 2:'ghi'\n",
    "print(x.index('ghi'))"
   ]
  },
  {
   "cell_type": "code",
   "execution_count": 43,
   "id": "a68906fa",
   "metadata": {},
   "outputs": [
    {
     "ename": "ValueError",
     "evalue": "'xyz' is not in list",
     "output_type": "error",
     "traceback": [
      "\u001b[1;31m---------------------------------------------------------------------------\u001b[0m",
      "\u001b[1;31mValueError\u001b[0m                                Traceback (most recent call last)",
      "\u001b[1;32m~\\AppData\\Local\\Temp\\ipykernel_9648\\88705453.py\u001b[0m in \u001b[0;36m<module>\u001b[1;34m\u001b[0m\n\u001b[1;32m----> 1\u001b[1;33m \u001b[0mprint\u001b[0m\u001b[1;33m(\u001b[0m\u001b[0mx\u001b[0m\u001b[1;33m.\u001b[0m\u001b[0mindex\u001b[0m\u001b[1;33m(\u001b[0m\u001b[1;34m'xyz'\u001b[0m\u001b[1;33m)\u001b[0m\u001b[1;33m)\u001b[0m\u001b[1;33m\u001b[0m\u001b[1;33m\u001b[0m\u001b[0m\n\u001b[0m",
      "\u001b[1;31mValueError\u001b[0m: 'xyz' is not in list"
     ]
    }
   ],
   "source": [
    "print(x.index('xyz')) # ValueError"
   ]
  },
  {
   "cell_type": "code",
   "execution_count": null,
   "id": "3e7b8565",
   "metadata": {},
   "outputs": [],
   "source": []
  }
 ],
 "metadata": {
  "kernelspec": {
   "display_name": "Python 3 (ipykernel)",
   "language": "python",
   "name": "python3"
  },
  "language_info": {
   "codemirror_mode": {
    "name": "ipython",
    "version": 3
   },
   "file_extension": ".py",
   "mimetype": "text/x-python",
   "name": "python",
   "nbconvert_exporter": "python",
   "pygments_lexer": "ipython3",
   "version": "3.7.13"
  }
 },
 "nbformat": 4,
 "nbformat_minor": 5
}
