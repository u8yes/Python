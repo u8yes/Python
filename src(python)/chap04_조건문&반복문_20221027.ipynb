{
 "cells": [
  {
   "cell_type": "markdown",
   "id": "16bab182",
   "metadata": {},
   "source": [
    "# 조건문"
   ]
  },
  {
   "cell_type": "code",
   "execution_count": 5,
   "id": "77b7ef57",
   "metadata": {},
   "outputs": [
    {
     "name": "stdout",
     "output_type": "stream",
     "text": [
      "수를 입력하세요 : \n",
      "0\n",
      "0은 나눗셈에 이용할 수 없습니다.\n"
     ]
    },
    {
     "ename": "SystemExit",
     "evalue": "0",
     "output_type": "error",
     "traceback": [
      "An exception has occurred, use %tb to see the full traceback.\n",
      "\u001b[1;31mSystemExit\u001b[0m\u001b[1;31m:\u001b[0m 0\n"
     ]
    }
   ],
   "source": [
    "import sys\n",
    "\n",
    "print(\"수를 입력하세요 : \")\n",
    "\n",
    "num = int(input())\n",
    "\n",
    "if num == 0:\n",
    "    print('0은 나눗셈에 이용할 수 없습니다.')\n",
    "    sys.exit(0) # 들여쓰기를 잘해야 \n",
    "    \n",
    "print('3 /', num, '=', 3/num)\n",
    "\n"
   ]
  },
  {
   "cell_type": "code",
   "execution_count": null,
   "id": "3cf1de47",
   "metadata": {},
   "outputs": [],
   "source": []
  }
 ],
 "metadata": {
  "kernelspec": {
   "display_name": "Python 3 (ipykernel)",
   "language": "python",
   "name": "python3"
  },
  "language_info": {
   "codemirror_mode": {
    "name": "ipython",
    "version": 3
   },
   "file_extension": ".py",
   "mimetype": "text/x-python",
   "name": "python",
   "nbconvert_exporter": "python",
   "pygments_lexer": "ipython3",
   "version": "3.7.13"
  }
 },
 "nbformat": 4,
 "nbformat_minor": 5
}
