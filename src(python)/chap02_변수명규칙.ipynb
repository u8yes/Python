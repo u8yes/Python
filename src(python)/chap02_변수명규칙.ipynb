{
 "cells": [
  {
   "cell_type": "markdown",
   "id": "18907ff9",
   "metadata": {},
   "source": [
    "# 변수명 규칙\n",
    "### - 문자, 숫자, '_' 가능. 단, 숫자로 시작할 수 없다.\n",
    "### - 대/소문자를 구별(NUM, num).\n",
    "### - 예약어(키워드) 사용 불가능"
   ]
  },
  {
   "cell_type": "code",
   "execution_count": 1,
   "id": "0ea480ea",
   "metadata": {},
   "outputs": [
    {
     "name": "stdout",
     "output_type": "stream",
     "text": [
      "<class 'int'>\n",
      "<class 'str'>\n"
     ]
    }
   ],
   "source": [
    "# 변수(정수)\n",
    "a = 123456789\n",
    "b = \"홍길동\"\n",
    "a # print(a)\n",
    "b # print(b)\n",
    "print(type(a)) # 'int'\n",
    "print(type(b)) # 'str'"
   ]
  },
  {
   "cell_type": "code",
   "execution_count": 19,
   "id": "4133b6e3",
   "metadata": {},
   "outputs": [
    {
     "name": "stdout",
     "output_type": "stream",
     "text": [
      "<class 'float'>\n",
      "<class 'complex'>\n",
      "<class 'bool'>\n"
     ]
    }
   ],
   "source": [
    "print(type(3.18)) # 'float' 실수\n",
    "print(type(5 + 3j)) # 'complex' 복소수\n",
    "print(type(True)) # 'bool' "
   ]
  },
  {
   "cell_type": "markdown",
   "id": "4304af0e",
   "metadata": {},
   "source": [
    "### 연산자(+, -, *, /, %, //, ***)"
   ]
  },
  {
   "cell_type": "code",
   "execution_count": 20,
   "id": "53805b8d",
   "metadata": {},
   "outputs": [
    {
     "name": "stdout",
     "output_type": "stream",
     "text": [
      "7\n"
     ]
    }
   ],
   "source": [
    "a = 3 + 4\n",
    "print(a)"
   ]
  },
  {
   "cell_type": "code",
   "execution_count": 21,
   "id": "3f042fc4",
   "metadata": {},
   "outputs": [
    {
     "name": "stdout",
     "output_type": "stream",
     "text": [
      "-1\n"
     ]
    }
   ],
   "source": [
    "a = 3 - 4\n",
    "print(a)"
   ]
  },
  {
   "cell_type": "code",
   "execution_count": 22,
   "id": "415043de",
   "metadata": {},
   "outputs": [
    {
     "name": "stdout",
     "output_type": "stream",
     "text": [
      "12\n"
     ]
    }
   ],
   "source": [
    "a = 3 * 4\n",
    "print(a)"
   ]
  },
  {
   "cell_type": "code",
   "execution_count": 24,
   "id": "0fabe1e8",
   "metadata": {},
   "outputs": [
    {
     "name": "stdout",
     "output_type": "stream",
     "text": [
      "0.75\n",
      "<class 'float'>\n"
     ]
    }
   ],
   "source": [
    "a = 3 / 4\n",
    "print(a)\n",
    "print(type(a))"
   ]
  },
  {
   "cell_type": "code",
   "execution_count": 31,
   "id": "b2d068b0",
   "metadata": {},
   "outputs": [
    {
     "name": "stdout",
     "output_type": "stream",
     "text": [
      "3\n",
      "<class 'int'>\n"
     ]
    }
   ],
   "source": [
    "a = 3 % 4\n",
    "print(a)\n",
    "print(type(a))"
   ]
  },
  {
   "cell_type": "code",
   "execution_count": 27,
   "id": "2b0b2ad5",
   "metadata": {},
   "outputs": [
    {
     "name": "stdout",
     "output_type": "stream",
     "text": [
      "8\n",
      "<class 'int'>\n"
     ]
    }
   ],
   "source": [
    "a = 33 // 4  # 몫 반환 연산자\n",
    "print(a)\n",
    "print(type(a))"
   ]
  },
  {
   "cell_type": "code",
   "execution_count": 2,
   "id": "b1effcb9",
   "metadata": {},
   "outputs": [
    {
     "name": "stdout",
     "output_type": "stream",
     "text": [
      "16\n"
     ]
    }
   ],
   "source": [
    "a = 2 ** 4 # 2^4\n",
    "print(a)"
   ]
  },
  {
   "cell_type": "code",
   "execution_count": 4,
   "id": "0953402f",
   "metadata": {},
   "outputs": [
    {
     "name": "stdout",
     "output_type": "stream",
     "text": [
      "11234786123984761928346189273468172634981263498126349816293487612983476192837461982734619823749028345083212343563456345623453464567456757\n"
     ]
    }
   ],
   "source": [
    "x = 11234786123984761928346189273468172634981263498126349816293487612983476192837461982734619823749028345083212343563456345623453464567456757\n",
    "print(x) # 메모리가 허용할 때까지 정수값을 허용할 수 있다."
   ]
  },
  {
   "cell_type": "code",
   "execution_count": 6,
   "id": "51e856bb",
   "metadata": {},
   "outputs": [
    {
     "name": "stdout",
     "output_type": "stream",
     "text": [
      "0xff\n",
      "0xe\n"
     ]
    }
   ],
   "source": [
    "print(hex(255)) # 10진수 -> 16진수 # 0x라는 접두어를 붙이면 16진수 (숫자0과 x)\n",
    "print(hex(14))"
   ]
  },
  {
   "cell_type": "code",
   "execution_count": 9,
   "id": "9deb3326",
   "metadata": {},
   "outputs": [
    {
     "name": "stdout",
     "output_type": "stream",
     "text": [
      "10\n"
     ]
    }
   ],
   "source": [
    "a = 0b1010 # 2진수 -> 10진수 # 0과 binary = 0b\n",
    "print(a)"
   ]
  },
  {
   "cell_type": "code",
   "execution_count": 13,
   "id": "3660d54c",
   "metadata": {
    "scrolled": true
   },
   "outputs": [
    {
     "name": "stdout",
     "output_type": "stream",
     "text": [
      "0.10000000000000142\n",
      "0.11099999999999\n"
     ]
    }
   ],
   "source": [
    "x = 43.2 - 43.1\n",
    "y = 777.888 - 777.777\n",
    "print(x)\n",
    "print(y)"
   ]
  },
  {
   "cell_type": "markdown",
   "id": "0da11615",
   "metadata": {},
   "source": [
    "# - 문자열"
   ]
  },
  {
   "cell_type": "code",
   "execution_count": 14,
   "id": "eb143b5f",
   "metadata": {},
   "outputs": [
    {
     "name": "stdout",
     "output_type": "stream",
     "text": [
      "in the name of Jesus\n"
     ]
    }
   ],
   "source": [
    "a = \"in the name of Jesus\"\n",
    "print(a)"
   ]
  },
  {
   "cell_type": "code",
   "execution_count": 17,
   "id": "2cba4219",
   "metadata": {},
   "outputs": [
    {
     "name": "stdout",
     "output_type": "stream",
     "text": [
      "in the name of Jesus\n"
     ]
    }
   ],
   "source": [
    "a = 'in the name of Jesus'\n",
    "print(a)"
   ]
  },
  {
   "cell_type": "code",
   "execution_count": null,
   "id": "1684cf09",
   "metadata": {},
   "outputs": [],
   "source": []
  }
 ],
 "metadata": {
  "kernelspec": {
   "display_name": "Python [conda env:tf_cpu] *",
   "language": "python",
   "name": "conda-env-tf_cpu-py"
  },
  "language_info": {
   "codemirror_mode": {
    "name": "ipython",
    "version": 3
   },
   "file_extension": ".py",
   "mimetype": "text/x-python",
   "name": "python",
   "nbconvert_exporter": "python",
   "pygments_lexer": "ipython3",
   "version": "3.7.13"
  }
 },
 "nbformat": 4,
 "nbformat_minor": 5
}
