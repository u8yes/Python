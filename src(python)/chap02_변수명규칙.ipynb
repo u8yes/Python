{
 "cells": [
  {
   "cell_type": "markdown",
   "id": "18907ff9",
   "metadata": {},
   "source": [
    "# 변수명 규칙\n",
    "### - 문자, 숫자, '_' 가능. 단, 숫자로 시작할 수 없다.\n",
    "### - 대/소문자를 구별(NUM, num).\n",
    "### - 예약어(키워드) 사용 불가능"
   ]
  },
  {
   "cell_type": "code",
   "execution_count": 1,
   "id": "0ea480ea",
   "metadata": {},
   "outputs": [
    {
     "name": "stdout",
     "output_type": "stream",
     "text": [
      "<class 'int'>\n",
      "<class 'str'>\n"
     ]
    }
   ],
   "source": [
    "# 변수(정수)\n",
    "a = 123456789\n",
    "b = \"홍길동\"\n",
    "a # print(a)\n",
    "b # print(b)\n",
    "print(type(a)) # 'int'\n",
    "print(type(b)) # 'str'"
   ]
  },
  {
   "cell_type": "code",
   "execution_count": 19,
   "id": "4133b6e3",
   "metadata": {},
   "outputs": [
    {
     "name": "stdout",
     "output_type": "stream",
     "text": [
      "<class 'float'>\n",
      "<class 'complex'>\n",
      "<class 'bool'>\n"
     ]
    }
   ],
   "source": [
    "print(type(3.18)) # 'float' 실수\n",
    "print(type(5 + 3j)) # 'complex' 복소수\n",
    "print(type(True)) # 'bool' "
   ]
  },
  {
   "cell_type": "markdown",
   "id": "ce1f4e84",
   "metadata": {},
   "source": [
    "### 연산자(+, -, *, /, %, //, ***)"
   ]
  },
  {
   "cell_type": "code",
   "execution_count": 20,
   "id": "c2acc5b1",
   "metadata": {},
   "outputs": [
    {
     "name": "stdout",
     "output_type": "stream",
     "text": [
      "7\n"
     ]
    }
   ],
   "source": [
    "a = 3 + 4\n",
    "print(a)"
   ]
  },
  {
   "cell_type": "code",
   "execution_count": 21,
   "id": "fb5ff333",
   "metadata": {},
   "outputs": [
    {
     "name": "stdout",
     "output_type": "stream",
     "text": [
      "-1\n"
     ]
    }
   ],
   "source": [
    "a = 3 - 4\n",
    "print(a)"
   ]
  },
  {
   "cell_type": "code",
   "execution_count": 22,
   "id": "9161aac8",
   "metadata": {},
   "outputs": [
    {
     "name": "stdout",
     "output_type": "stream",
     "text": [
      "12\n"
     ]
    }
   ],
   "source": [
    "a = 3 * 4\n",
    "print(a)"
   ]
  },
  {
   "cell_type": "code",
   "execution_count": 24,
   "id": "30a30ef2",
   "metadata": {},
   "outputs": [
    {
     "name": "stdout",
     "output_type": "stream",
     "text": [
      "0.75\n",
      "<class 'float'>\n"
     ]
    }
   ],
   "source": [
    "a = 3 / 4\n",
    "print(a)\n",
    "print(type(a))"
   ]
  },
  {
   "cell_type": "code",
   "execution_count": 31,
   "id": "29380ab3",
   "metadata": {},
   "outputs": [
    {
     "name": "stdout",
     "output_type": "stream",
     "text": [
      "3\n",
      "<class 'int'>\n"
     ]
    }
   ],
   "source": [
    "a = 3 % 4\n",
    "print(a)\n",
    "print(type(a))"
   ]
  },
  {
   "cell_type": "code",
   "execution_count": 27,
   "id": "e9bd2879",
   "metadata": {},
   "outputs": [
    {
     "name": "stdout",
     "output_type": "stream",
     "text": [
      "8\n",
      "<class 'int'>\n"
     ]
    }
   ],
   "source": [
    "a = 33 // 4  # 몫 반환 연산자\n",
    "print(a)\n",
    "print(type(a))"
   ]
  },
  {
   "cell_type": "code",
   "execution_count": 2,
   "id": "efd79ca5",
   "metadata": {},
   "outputs": [
    {
     "name": "stdout",
     "output_type": "stream",
     "text": [
      "16\n"
     ]
    }
   ],
   "source": [
    "a = 2 ** 4 # 2^4\n",
    "print(a)"
   ]
  },
  {
   "cell_type": "code",
   "execution_count": 4,
   "id": "ddb42f22",
   "metadata": {},
   "outputs": [
    {
     "name": "stdout",
     "output_type": "stream",
     "text": [
      "11234786123984761928346189273468172634981263498126349816293487612983476192837461982734619823749028345083212343563456345623453464567456757\n"
     ]
    }
   ],
   "source": [
    "x = 11234786123984761928346189273468172634981263498126349816293487612983476192837461982734619823749028345083212343563456345623453464567456757\n",
    "print(x) # 메모리가 허용할 때까지 정수값을 허용할 수 있다."
   ]
  },
  {
   "cell_type": "code",
   "execution_count": 6,
   "id": "415b2e86",
   "metadata": {},
   "outputs": [
    {
     "name": "stdout",
     "output_type": "stream",
     "text": [
      "0xff\n",
      "0xe\n"
     ]
    }
   ],
   "source": [
    "print(hex(255)) # 10진수 -> 16진수 # 0x라는 접두어를 붙이면 16진수 (숫자0과 x)\n",
    "print(hex(14))"
   ]
  },
  {
   "cell_type": "code",
   "execution_count": 9,
   "id": "81d6edff",
   "metadata": {},
   "outputs": [
    {
     "name": "stdout",
     "output_type": "stream",
     "text": [
      "10\n"
     ]
    }
   ],
   "source": [
    "a = 0b1010 # 2진수 -> 10진수 # 0과 binary = 0b\n",
    "print(a)"
   ]
  },
  {
   "cell_type": "code",
   "execution_count": 13,
   "id": "0cbfb641",
   "metadata": {
    "scrolled": true
   },
   "outputs": [
    {
     "name": "stdout",
     "output_type": "stream",
     "text": [
      "0.10000000000000142\n",
      "0.11099999999999\n"
     ]
    }
   ],
   "source": [
    "x = 43.2 - 43.1\n",
    "y = 777.888 - 777.777\n",
    "print(x)\n",
    "print(y)"
   ]
  },
  {
   "cell_type": "markdown",
   "id": "ff399753",
   "metadata": {},
   "source": [
    "# - 문자열"
   ]
  },
  {
   "cell_type": "code",
   "execution_count": 14,
   "id": "6b7dc8ad",
   "metadata": {},
   "outputs": [
    {
     "name": "stdout",
     "output_type": "stream",
     "text": [
      "in the name of Jesus\n"
     ]
    }
   ],
   "source": [
    "a = \"in the name of Jesus\"\n",
    "print(a)"
   ]
  },
  {
   "cell_type": "code",
   "execution_count": 17,
   "id": "8c89b3ea",
   "metadata": {},
   "outputs": [
    {
     "name": "stdout",
     "output_type": "stream",
     "text": [
      "in the name of Jesus\n"
     ]
    }
   ],
   "source": [
    "a = 'in the name of Jesus'\n",
    "print(a)"
   ]
  },
  {
   "cell_type": "code",
   "execution_count": 19,
   "id": "23c89e83",
   "metadata": {},
   "outputs": [
    {
     "name": "stdout",
     "output_type": "stream",
     "text": [
      "\n",
      "한 회계연도를 넘어 계속하여 지출할 필요가 있을 때에는 정부는 연한을 정하여 계속비로서 국회의 의결을 얻어야 한다. \n",
      "국회의원이 회기전에 체포 또는 구금된 때에는 현행범인이 아닌 한 국회의 요구가 있으면 회기중 석방된다.\n",
      "\n",
      "체포·구속·압수 또는 수색을 할 때에는 적법한 절차에 따라 검사의 신청에 의하여 법관이 발부한 영장을 제시하여야 한다. \n",
      "다만, 현행범인인 경우와 장기 3년 이상의 형에 해당하는 죄를 범하고 도피 또는 증거인멸의 염려가 있을 때에는 사후에 영장을 청구할 수 있다.\n",
      "\n",
      "<class 'str'>\n"
     ]
    }
   ],
   "source": [
    "str = \"\"\"\n",
    "한 회계연도를 넘어 계속하여 지출할 필요가 있을 때에는 정부는 연한을 정하여 계속비로서 국회의 의결을 얻어야 한다. \n",
    "국회의원이 회기전에 체포 또는 구금된 때에는 현행범인이 아닌 한 국회의 요구가 있으면 회기중 석방된다.\n",
    "\n",
    "체포·구속·압수 또는 수색을 할 때에는 적법한 절차에 따라 검사의 신청에 의하여 법관이 발부한 영장을 제시하여야 한다. \n",
    "다만, 현행범인인 경우와 장기 3년 이상의 형에 해당하는 죄를 범하고 도피 또는 증거인멸의 염려가 있을 때에는 사후에 영장을 청구할 수 있다.\n",
    "\"\"\"\n",
    "print(str)\n",
    "print(type(str)) # 키워드(예약어)로 정해져있는 것이 아니다."
   ]
  },
  {
   "cell_type": "code",
   "execution_count": 20,
   "id": "7d60c78f",
   "metadata": {},
   "outputs": [
    {
     "name": "stdout",
     "output_type": "stream",
     "text": [
      "5\n"
     ]
    }
   ],
   "source": [
    "int = 5 # int는 파이썬에서는 예약어가 아니기에 사용이 가능하다.\n",
    "print(int)"
   ]
  },
  {
   "cell_type": "code",
   "execution_count": 24,
   "id": "b0915dd2",
   "metadata": {},
   "outputs": [
    {
     "name": "stdout",
     "output_type": "stream",
     "text": [
      "Python\n",
      "Py thon\n",
      "Python\n"
     ]
    }
   ],
   "source": [
    "print(\"Py\" + \"thon\")\n",
    "print(\"Py\" , \"thon\")\n",
    "print(\"Py\"\"thon\")"
   ]
  },
  {
   "cell_type": "code",
   "execution_count": 27,
   "id": "fde8e454",
   "metadata": {},
   "outputs": [
    {
     "name": "stdout",
     "output_type": "stream",
     "text": [
      "in the name of, Jesus\n"
     ]
    }
   ],
   "source": [
    "nameof = \"in the name of, \"\n",
    "jesus = \"Jesus\"\n",
    "nameJesus = name + jesus\n",
    "print(nameJesus)"
   ]
  },
  {
   "cell_type": "code",
   "execution_count": 33,
   "id": "ebb99c6c",
   "metadata": {},
   "outputs": [
    {
     "ename": "TypeError",
     "evalue": "can only concatenate str (not \"int\") to str",
     "output_type": "error",
     "traceback": [
      "\u001b[1;31m---------------------------------------------------------------------------\u001b[0m",
      "\u001b[1;31mTypeError\u001b[0m                                 Traceback (most recent call last)",
      "\u001b[1;32m~\\AppData\\Local\\Temp\\ipykernel_14296\\1841549638.py\u001b[0m in \u001b[0;36m<module>\u001b[1;34m\u001b[0m\n\u001b[0;32m      1\u001b[0m \u001b[0mage\u001b[0m \u001b[1;33m=\u001b[0m \u001b[1;36m25\u001b[0m\u001b[1;33m\u001b[0m\u001b[1;33m\u001b[0m\u001b[0m\n\u001b[0;32m      2\u001b[0m \u001b[0mstr\u001b[0m \u001b[1;33m=\u001b[0m \u001b[1;34m\"방가 방가\"\u001b[0m\u001b[1;33m\u001b[0m\u001b[1;33m\u001b[0m\u001b[0m\n\u001b[1;32m----> 3\u001b[1;33m \u001b[0mprint\u001b[0m\u001b[1;33m(\u001b[0m\u001b[0mstr\u001b[0m \u001b[1;33m+\u001b[0m \u001b[0mage\u001b[0m\u001b[1;33m)\u001b[0m \u001b[1;31m#error (문자열 + 문자열 외 자료형의 + 연산을 허용하지 않음)\u001b[0m\u001b[1;33m\u001b[0m\u001b[1;33m\u001b[0m\u001b[0m\n\u001b[0m",
      "\u001b[1;31mTypeError\u001b[0m: can only concatenate str (not \"int\") to str"
     ]
    }
   ],
   "source": [
    "age = 25\n",
    "str = \"방가 방가\"\n",
    "print(str + age) #error (문자열 + 문자열 외 자료형의 + 연산을 허용하지 않음)"
   ]
  },
  {
   "cell_type": "code",
   "execution_count": 29,
   "id": "d5b5d12e",
   "metadata": {},
   "outputs": [
    {
     "name": "stdout",
     "output_type": "stream",
     "text": [
      "python python python \n"
     ]
    }
   ],
   "source": [
    "print('python ' * 3)"
   ]
  },
  {
   "cell_type": "code",
   "execution_count": 36,
   "id": "4b47c571",
   "metadata": {},
   "outputs": [
    {
     "name": "stdout",
     "output_type": "stream",
     "text": [
      "Good M\n"
     ]
    }
   ],
   "source": [
    "s = 'Good Morning'\n",
    "print(s[0:6]) # R은 '1'부터 시작, Python은 '0'부터 시작"
   ]
  },
  {
   "cell_type": "code",
   "execution_count": null,
   "id": "5c61176f",
   "metadata": {},
   "outputs": [],
   "source": []
  }
 ],
 "metadata": {
  "kernelspec": {
   "display_name": "Python [conda env:tf_cpu] *",
   "language": "python",
   "name": "conda-env-tf_cpu-py"
  },
  "language_info": {
   "codemirror_mode": {
    "name": "ipython",
    "version": 3
   },
   "file_extension": ".py",
   "mimetype": "text/x-python",
   "name": "python",
   "nbconvert_exporter": "python",
   "pygments_lexer": "ipython3",
   "version": "3.7.13"
  }
 },
 "nbformat": 4,
 "nbformat_minor": 5
}
