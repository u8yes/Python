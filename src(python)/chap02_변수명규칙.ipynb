{
 "cells": [
  {
   "cell_type": "markdown",
   "id": "18907ff9",
   "metadata": {},
   "source": [
    "# 변수명 규칙\n",
    "### - 문자, 숫자, '_' 가능. 단, 숫자로 시작할 수 없다.\n",
    "### - 대/소문자를 구별(NUM, num).\n",
    "### - 예약어(키워드) 사용 불가능"
   ]
  },
  {
   "cell_type": "code",
   "execution_count": 1,
   "id": "0ea480ea",
   "metadata": {},
   "outputs": [
    {
     "name": "stdout",
     "output_type": "stream",
     "text": [
      "<class 'int'>\n",
      "<class 'str'>\n"
     ]
    }
   ],
   "source": [
    "# 변수(정수)\n",
    "a = 123456789\n",
    "b = \"홍길동\"\n",
    "a # print(a)\n",
    "b # print(b)\n",
    "print(type(a)) # 'int'\n",
    "print(type(b)) # 'str'"
   ]
  },
  {
   "cell_type": "code",
   "execution_count": 19,
   "id": "4133b6e3",
   "metadata": {},
   "outputs": [
    {
     "name": "stdout",
     "output_type": "stream",
     "text": [
      "<class 'float'>\n",
      "<class 'complex'>\n",
      "<class 'bool'>\n"
     ]
    }
   ],
   "source": [
    "print(type(3.18)) # 'float' 실수\n",
    "print(type(5 + 3j)) # 'complex' 복소수\n",
    "print(type(True)) # 'bool' "
   ]
  },
  {
   "cell_type": "markdown",
   "id": "6fb03692",
   "metadata": {},
   "source": [
    "### 연산자(+, -, *, /, %, //, ***)"
   ]
  },
  {
   "cell_type": "code",
   "execution_count": 20,
   "id": "193ea0f5",
   "metadata": {},
   "outputs": [
    {
     "name": "stdout",
     "output_type": "stream",
     "text": [
      "7\n"
     ]
    }
   ],
   "source": [
    "a = 3 + 4\n",
    "print(a)"
   ]
  },
  {
   "cell_type": "code",
   "execution_count": 21,
   "id": "129f2c43",
   "metadata": {},
   "outputs": [
    {
     "name": "stdout",
     "output_type": "stream",
     "text": [
      "-1\n"
     ]
    }
   ],
   "source": [
    "a = 3 - 4\n",
    "print(a)"
   ]
  },
  {
   "cell_type": "code",
   "execution_count": 22,
   "id": "c99f2798",
   "metadata": {},
   "outputs": [
    {
     "name": "stdout",
     "output_type": "stream",
     "text": [
      "12\n"
     ]
    }
   ],
   "source": [
    "a = 3 * 4\n",
    "print(a)"
   ]
  },
  {
   "cell_type": "code",
   "execution_count": 24,
   "id": "38e1a53e",
   "metadata": {},
   "outputs": [
    {
     "name": "stdout",
     "output_type": "stream",
     "text": [
      "0.75\n",
      "<class 'float'>\n"
     ]
    }
   ],
   "source": [
    "a = 3 / 4\n",
    "print(a)\n",
    "print(type(a))"
   ]
  },
  {
   "cell_type": "code",
   "execution_count": 31,
   "id": "17216a9d",
   "metadata": {},
   "outputs": [
    {
     "name": "stdout",
     "output_type": "stream",
     "text": [
      "3\n",
      "<class 'int'>\n"
     ]
    }
   ],
   "source": [
    "a = 3 % 4\n",
    "print(a)\n",
    "print(type(a))"
   ]
  },
  {
   "cell_type": "code",
   "execution_count": 27,
   "id": "c8b774e2",
   "metadata": {},
   "outputs": [
    {
     "name": "stdout",
     "output_type": "stream",
     "text": [
      "8\n",
      "<class 'int'>\n"
     ]
    }
   ],
   "source": [
    "a = 33 // 4  # 몫 반환 연산자\n",
    "print(a)\n",
    "print(type(a))"
   ]
  },
  {
   "cell_type": "code",
   "execution_count": 2,
   "id": "2c4aa243",
   "metadata": {},
   "outputs": [
    {
     "name": "stdout",
     "output_type": "stream",
     "text": [
      "16\n"
     ]
    }
   ],
   "source": [
    "a = 2 ** 4 # 2^4\n",
    "print(a)"
   ]
  },
  {
   "cell_type": "code",
   "execution_count": 4,
   "id": "9924d17e",
   "metadata": {},
   "outputs": [
    {
     "name": "stdout",
     "output_type": "stream",
     "text": [
      "11234786123984761928346189273468172634981263498126349816293487612983476192837461982734619823749028345083212343563456345623453464567456757\n"
     ]
    }
   ],
   "source": [
    "x = 11234786123984761928346189273468172634981263498126349816293487612983476192837461982734619823749028345083212343563456345623453464567456757\n",
    "print(x) # 메모리가 허용할 때까지 정수값을 허용할 수 있다."
   ]
  },
  {
   "cell_type": "code",
   "execution_count": 6,
   "id": "4ce783c3",
   "metadata": {},
   "outputs": [
    {
     "name": "stdout",
     "output_type": "stream",
     "text": [
      "0xff\n",
      "0xe\n"
     ]
    }
   ],
   "source": [
    "print(hex(255)) # 10진수 -> 16진수 # 0x라는 접두어를 붙이면 16진수 (숫자0과 x)\n",
    "print(hex(14))"
   ]
  },
  {
   "cell_type": "code",
   "execution_count": 9,
   "id": "9ae345b7",
   "metadata": {},
   "outputs": [
    {
     "name": "stdout",
     "output_type": "stream",
     "text": [
      "10\n"
     ]
    }
   ],
   "source": [
    "a = 0b1010 # 2진수 -> 10진수 # 0과 binary = 0b\n",
    "print(a)"
   ]
  },
  {
   "cell_type": "code",
   "execution_count": 13,
   "id": "0c5c0baa",
   "metadata": {
    "scrolled": true
   },
   "outputs": [
    {
     "name": "stdout",
     "output_type": "stream",
     "text": [
      "0.10000000000000142\n",
      "0.11099999999999\n"
     ]
    }
   ],
   "source": [
    "x = 43.2 - 43.1\n",
    "y = 777.888 - 777.777\n",
    "print(x)\n",
    "print(y)"
   ]
  },
  {
   "cell_type": "markdown",
   "id": "7fe4c731",
   "metadata": {},
   "source": [
    "# - 문자열"
   ]
  },
  {
   "cell_type": "code",
   "execution_count": 14,
   "id": "f5f0d78e",
   "metadata": {},
   "outputs": [
    {
     "name": "stdout",
     "output_type": "stream",
     "text": [
      "in the name of Jesus\n"
     ]
    }
   ],
   "source": [
    "a = \"in the name of Jesus\"\n",
    "print(a)"
   ]
  },
  {
   "cell_type": "code",
   "execution_count": 17,
   "id": "f2711d54",
   "metadata": {},
   "outputs": [
    {
     "name": "stdout",
     "output_type": "stream",
     "text": [
      "in the name of Jesus\n"
     ]
    }
   ],
   "source": [
    "a = 'in the name of Jesus'\n",
    "print(a)"
   ]
  },
  {
   "cell_type": "code",
   "execution_count": 19,
   "id": "cbe50044",
   "metadata": {},
   "outputs": [
    {
     "name": "stdout",
     "output_type": "stream",
     "text": [
      "\n",
      "한 회계연도를 넘어 계속하여 지출할 필요가 있을 때에는 정부는 연한을 정하여 계속비로서 국회의 의결을 얻어야 한다. \n",
      "국회의원이 회기전에 체포 또는 구금된 때에는 현행범인이 아닌 한 국회의 요구가 있으면 회기중 석방된다.\n",
      "\n",
      "체포·구속·압수 또는 수색을 할 때에는 적법한 절차에 따라 검사의 신청에 의하여 법관이 발부한 영장을 제시하여야 한다. \n",
      "다만, 현행범인인 경우와 장기 3년 이상의 형에 해당하는 죄를 범하고 도피 또는 증거인멸의 염려가 있을 때에는 사후에 영장을 청구할 수 있다.\n",
      "\n",
      "<class 'str'>\n"
     ]
    }
   ],
   "source": [
    "str = \"\"\"\n",
    "한 회계연도를 넘어 계속하여 지출할 필요가 있을 때에는 정부는 연한을 정하여 계속비로서 국회의 의결을 얻어야 한다. \n",
    "국회의원이 회기전에 체포 또는 구금된 때에는 현행범인이 아닌 한 국회의 요구가 있으면 회기중 석방된다.\n",
    "\n",
    "체포·구속·압수 또는 수색을 할 때에는 적법한 절차에 따라 검사의 신청에 의하여 법관이 발부한 영장을 제시하여야 한다. \n",
    "다만, 현행범인인 경우와 장기 3년 이상의 형에 해당하는 죄를 범하고 도피 또는 증거인멸의 염려가 있을 때에는 사후에 영장을 청구할 수 있다.\n",
    "\"\"\"\n",
    "print(str)\n",
    "print(type(str)) # 키워드(예약어)로 정해져있는 것이 아니다."
   ]
  },
  {
   "cell_type": "code",
   "execution_count": 20,
   "id": "b7b0f3fd",
   "metadata": {},
   "outputs": [
    {
     "name": "stdout",
     "output_type": "stream",
     "text": [
      "5\n"
     ]
    }
   ],
   "source": [
    "int = 5 # int는 파이썬에서는 예약어가 아니기에 사용이 가능하다.\n",
    "print(int)"
   ]
  },
  {
   "cell_type": "code",
   "execution_count": 24,
   "id": "1a03bd92",
   "metadata": {},
   "outputs": [
    {
     "name": "stdout",
     "output_type": "stream",
     "text": [
      "Python\n",
      "Py thon\n",
      "Python\n"
     ]
    }
   ],
   "source": [
    "print(\"Py\" + \"thon\")\n",
    "print(\"Py\" , \"thon\")\n",
    "print(\"Py\"\"thon\")"
   ]
  },
  {
   "cell_type": "code",
   "execution_count": 27,
   "id": "a0cde1b1",
   "metadata": {},
   "outputs": [
    {
     "name": "stdout",
     "output_type": "stream",
     "text": [
      "in the name of, Jesus\n"
     ]
    }
   ],
   "source": [
    "nameof = \"in the name of, \"\n",
    "jesus = \"Jesus\"\n",
    "nameJesus = name + jesus\n",
    "print(nameJesus)"
   ]
  },
  {
   "cell_type": "code",
   "execution_count": 33,
   "id": "b7c6ecb9",
   "metadata": {},
   "outputs": [
    {
     "ename": "TypeError",
     "evalue": "can only concatenate str (not \"int\") to str",
     "output_type": "error",
     "traceback": [
      "\u001b[1;31m---------------------------------------------------------------------------\u001b[0m",
      "\u001b[1;31mTypeError\u001b[0m                                 Traceback (most recent call last)",
      "\u001b[1;32m~\\AppData\\Local\\Temp\\ipykernel_14296\\1841549638.py\u001b[0m in \u001b[0;36m<module>\u001b[1;34m\u001b[0m\n\u001b[0;32m      1\u001b[0m \u001b[0mage\u001b[0m \u001b[1;33m=\u001b[0m \u001b[1;36m25\u001b[0m\u001b[1;33m\u001b[0m\u001b[1;33m\u001b[0m\u001b[0m\n\u001b[0;32m      2\u001b[0m \u001b[0mstr\u001b[0m \u001b[1;33m=\u001b[0m \u001b[1;34m\"방가 방가\"\u001b[0m\u001b[1;33m\u001b[0m\u001b[1;33m\u001b[0m\u001b[0m\n\u001b[1;32m----> 3\u001b[1;33m \u001b[0mprint\u001b[0m\u001b[1;33m(\u001b[0m\u001b[0mstr\u001b[0m \u001b[1;33m+\u001b[0m \u001b[0mage\u001b[0m\u001b[1;33m)\u001b[0m \u001b[1;31m#error (문자열 + 문자열 외 자료형의 + 연산을 허용하지 않음)\u001b[0m\u001b[1;33m\u001b[0m\u001b[1;33m\u001b[0m\u001b[0m\n\u001b[0m",
      "\u001b[1;31mTypeError\u001b[0m: can only concatenate str (not \"int\") to str"
     ]
    }
   ],
   "source": [
    "age = 25\n",
    "str = \"방가 방가\"\n",
    "print(str + age) #error (문자열 + 문자열 외 자료형의 + 연산을 허용하지 않음)"
   ]
  },
  {
   "cell_type": "code",
   "execution_count": 29,
   "id": "44388241",
   "metadata": {},
   "outputs": [
    {
     "name": "stdout",
     "output_type": "stream",
     "text": [
      "python python python \n"
     ]
    }
   ],
   "source": [
    "print('python ' * 3)"
   ]
  },
  {
   "cell_type": "code",
   "execution_count": 39,
   "id": "25780b9a",
   "metadata": {},
   "outputs": [
    {
     "name": "stdout",
     "output_type": "stream",
     "text": [
      "Good M\n",
      "Morning\n"
     ]
    }
   ],
   "source": [
    "s = 'Good Morning'\n",
    "print(s[0:6]) # R은 '1'부터 시작, Python은 '0'부터 시작\n",
    "print(s[5:12])"
   ]
  },
  {
   "cell_type": "code",
   "execution_count": 40,
   "id": "f10adcc8",
   "metadata": {},
   "outputs": [
    {
     "name": "stdout",
     "output_type": "stream",
     "text": [
      "Good\n"
     ]
    }
   ],
   "source": [
    "a = s[:4]\n",
    "print(a)"
   ]
  },
  {
   "cell_type": "code",
   "execution_count": 41,
   "id": "d2bbb10e",
   "metadata": {},
   "outputs": [
    {
     "name": "stdout",
     "output_type": "stream",
     "text": [
      "Morning\n"
     ]
    }
   ],
   "source": [
    "a = s[5:] # a = s[5:12]\n",
    "print(a)"
   ]
  },
  {
   "cell_type": "code",
   "execution_count": 43,
   "id": "4f55b416",
   "metadata": {},
   "outputs": [
    {
     "name": "stdout",
     "output_type": "stream",
     "text": [
      "ing\n"
     ]
    }
   ],
   "source": [
    "a = s[-3:] # 뒤로부터 카운터 시작(-1...) 출력 : 'ing' # R은 '-'는 제외, 자바는 '-'는 에러남\n",
    "print(a)"
   ]
  },
  {
   "cell_type": "code",
   "execution_count": 44,
   "id": "b0874833",
   "metadata": {},
   "outputs": [
    {
     "name": "stdout",
     "output_type": "stream",
     "text": [
      "Go onn\n"
     ]
    }
   ],
   "source": [
    "a = s[::2] # 2 칸씩 카운팅\n",
    "print(a)"
   ]
  },
  {
   "cell_type": "code",
   "execution_count": 45,
   "id": "b1685750",
   "metadata": {},
   "outputs": [
    {
     "name": "stdout",
     "output_type": "stream",
     "text": [
      "o\n"
     ]
    }
   ],
   "source": [
    "a = s[2] # 특징 인덱스 위치 문자 변환\n",
    "print(a)"
   ]
  },
  {
   "cell_type": "code",
   "execution_count": 51,
   "id": "2a949673",
   "metadata": {},
   "outputs": [
    {
     "name": "stdout",
     "output_type": "stream",
     "text": [
      "True\n",
      "False\n",
      "True\n",
      "False\n"
     ]
    }
   ],
   "source": [
    "print('M' in s) # s = 'Good Morning' 문자열 안에 대문자가 있는지 검색\n",
    "print('a' in s)\n",
    "print('Good' in s)\n",
    "print('morning' in s)"
   ]
  },
  {
   "cell_type": "code",
   "execution_count": 52,
   "id": "27ffd071",
   "metadata": {},
   "outputs": [
    {
     "name": "stdout",
     "output_type": "stream",
     "text": [
      "12\n"
     ]
    }
   ],
   "source": [
    "print(len(s)) # len - 문자열의 길이를 반환할 때"
   ]
  },
  {
   "cell_type": "code",
   "execution_count": 57,
   "id": "d27a5a09",
   "metadata": {},
   "outputs": [
    {
     "data": {
      "text/plain": [
       "4"
      ]
     },
     "execution_count": 57,
     "metadata": {},
     "output_type": "execute_result"
    }
   ],
   "source": [
    "# str = 'How do you do, how do you do'\n",
    "# str.count('do')\n",
    "'How do you do, how do you do'.count('do')"
   ]
  },
  {
   "cell_type": "code",
   "execution_count": null,
   "id": "16459939",
   "metadata": {},
   "outputs": [],
   "source": []
  }
 ],
 "metadata": {
  "kernelspec": {
   "display_name": "Python [conda env:tf_cpu] *",
   "language": "python",
   "name": "conda-env-tf_cpu-py"
  },
  "language_info": {
   "codemirror_mode": {
    "name": "ipython",
    "version": 3
   },
   "file_extension": ".py",
   "mimetype": "text/x-python",
   "name": "python",
   "nbconvert_exporter": "python",
   "pygments_lexer": "ipython3",
   "version": "3.7.13"
  }
 },
 "nbformat": 4,
 "nbformat_minor": 5
}
