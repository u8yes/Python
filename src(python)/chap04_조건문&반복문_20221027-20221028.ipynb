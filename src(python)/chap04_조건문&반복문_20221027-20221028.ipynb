{
 "cells": [
  {
   "cell_type": "markdown",
   "id": "1ed49ed5",
   "metadata": {},
   "source": [
    "# 조건문_20221027-20221028"
   ]
  },
  {
   "cell_type": "code",
   "execution_count": 6,
   "id": "fe2eeb09",
   "metadata": {
    "scrolled": true
   },
   "outputs": [
    {
     "name": "stdout",
     "output_type": "stream",
     "text": [
      "수를 입력하세요 : \n",
      "0\n",
      "0은 나눗셈에 이용할 수 없습니다.\n"
     ]
    },
    {
     "ename": "SystemExit",
     "evalue": "0",
     "output_type": "error",
     "traceback": [
      "An exception has occurred, use %tb to see the full traceback.\n",
      "\u001b[1;31mSystemExit\u001b[0m\u001b[1;31m:\u001b[0m 0\n"
     ]
    }
   ],
   "source": [
    "import sys\n",
    "\n",
    "print(\"수를 입력하세요 : \")\n",
    "\n",
    "num = int(input())\n",
    "\n",
    "if num == 0:\n",
    "    print('0은 나눗셈에 이용할 수 없습니다.')\n",
    "    sys.exit(0) # 들여쓰기를 해야 if문에 포함된다.\n",
    "    \n",
    "print('3 /', num, '=', 3/num)\n",
    "\n"
   ]
  },
  {
   "cell_type": "code",
   "execution_count": 1,
   "id": "6c6f1a32",
   "metadata": {},
   "outputs": [
    {
     "name": "stdout",
     "output_type": "stream",
     "text": [
      "수를 입력하세요 : \n",
      "3\n",
      "3 / 3 = 1.0\n",
      "프로그램 종료\n"
     ]
    }
   ],
   "source": [
    "print(\"수를 입력하세요 : \")\n",
    "\n",
    "num = int(input())\n",
    "\n",
    "# interpreter 방식에서는 인식을 하기 위해서 ':' 표시를 통해 if문을 사용하기 위해 들여쓰기가 필요하다. \n",
    "# 파이썬은 자동으로 들여쓰기가 됨.\n",
    "if num == 0:\n",
    "    print('0은 나눗셈에 이용할 수 없습니다.')\n",
    "else:\n",
    "    print('3 /', num, '=', 3/num)\n",
    "\n",
    "# 꼭 한줄을 넘어가자\n",
    "# 조건절을 떠나서 항상 실행할 수 있는 환경으로 돌아옴.\n",
    "print(\"프로그램 종료\")"
   ]
  },
  {
   "cell_type": "code",
   "execution_count": 4,
   "id": "c5de5b8e",
   "metadata": {},
   "outputs": [
    {
     "name": "stdout",
     "output_type": "stream",
     "text": [
      "요일(월-일을 입력하세요 : \n",
      "주일\n",
      "Sunday\n"
     ]
    }
   ],
   "source": [
    "print(\"요일(월-일을 입력하세요 : \")\n",
    "\n",
    "dow = input()\n",
    "# elif = elseif\n",
    "\n",
    "if dow == '월':\n",
    "    print(\"Monday\")\n",
    "elif dow == '화':\n",
    "    print(\"Tuesday\")\n",
    "elif dow == '수':\n",
    "    print(\"Wednesday\")\n",
    "elif dow == '목':\n",
    "    print(\"Thursday\")\n",
    "elif dow == '금':\n",
    "    print(\"Friday\")\n",
    "elif dow == '토':\n",
    "    print(\"Saturday\")\n",
    "elif dow == '주일':\n",
    "    print(\"Sunday\")\n",
    "else:\n",
    "    print(\"잘못 입력된 요일입니다.\")\n"
   ]
  },
  {
   "cell_type": "code",
   "execution_count": 10,
   "id": "b499aba0",
   "metadata": {},
   "outputs": [
    {
     "name": "stdout",
     "output_type": "stream",
     "text": [
      "수를 입력하세요 : \n",
      "6\n",
      "10이하의 짝수\n"
     ]
    }
   ],
   "source": [
    "# if문 예제1)\n",
    "print(\"수를 입력하세요 : \")\n",
    "\n",
    "num = int(input())\n",
    "\n",
    "if num > 10:\n",
    "    if num % 2 == 0:\n",
    "        print(\"10보다 큰 짝수\")\n",
    "    else:\n",
    "        print(\"10보다 큰 홀수\")\n",
    "else:\n",
    "    if num % 2 == 0:\n",
    "        print(\"10이하의 짝수\")\n",
    "    else:\n",
    "        print(\"10이하의 홀수\")\n",
    "    "
   ]
  },
  {
   "cell_type": "code",
   "execution_count": 14,
   "id": "aa2db18f",
   "metadata": {},
   "outputs": [
    {
     "name": "stdout",
     "output_type": "stream",
     "text": [
      "수를 입력하세요 : \n",
      "7\n",
      "10이하의 홀수\n"
     ]
    }
   ],
   "source": [
    "# if문 예제2)\n",
    "# 동일한 조건문을 줄여서 표현\n",
    "print(\"수를 입력하세요 : \")\n",
    "\n",
    "num = int(input())\n",
    "\n",
    "if num > 10 and num % 2 == 0:\n",
    "    print(\"10보다 큰 짝수\")\n",
    "elif num > 10 and num % 2 != 0:\n",
    "    print(\"10보다 큰 홀수\")\n",
    "elif num % 2 == 0:\n",
    "    print(\"10이하의 짝수\")\n",
    "else:\n",
    "    print(\"10이하의 홀수\")\n"
   ]
  },
  {
   "cell_type": "markdown",
   "id": "95fd6abd",
   "metadata": {},
   "source": [
    "# 반복문(while, for)_20221028"
   ]
  },
  {
   "cell_type": "code",
   "execution_count": 21,
   "id": "7ec7102a",
   "metadata": {},
   "outputs": [
    {
     "name": "stdout",
     "output_type": "stream",
     "text": [
      "몇 번 반복할까요? : \n",
      "3\n",
      "1회 반복\n",
      "2회 반복\n",
      "3회 반복\n",
      "반복이 종료\n"
     ]
    }
   ],
   "source": [
    "print(\"몇 번 반복할까요? : \")\n",
    "\n",
    "limit = int(input())\n",
    "\n",
    "count = 0\n",
    "\n",
    "# count가 limit보다 커질 때까지 반복한다. # .format 방식은 메서드 체이닝 방식\n",
    "# {0}부터 카운팅 되는 매개변수값이다.\n",
    "while count < limit:\n",
    "    count += 1 # count = count + 1 # count++은 지원이 안 됨\n",
    "    print('{0}회 반복'.format(count))\n",
    "    \n",
    "print(\"반복이 종료\")"
   ]
  },
  {
   "cell_type": "code",
   "execution_count": 28,
   "id": "b413bdc9",
   "metadata": {},
   "outputs": [
    {
     "name": "stdout",
     "output_type": "stream",
     "text": [
      "반복을 계속할까요? [예/아니요] : \n",
      "아니요\n",
      "반복 종료\n"
     ]
    }
   ],
   "source": [
    "while True:\n",
    "    print(\"반복을 계속할까요? [예/아니요] : \")\n",
    "    answer = input()\n",
    "    \n",
    "    if answer == \"예\":\n",
    "        print(\"반복을 계속합니다.\")\n",
    "    elif answer == \"아니요\":\n",
    "        break\n",
    "    else:\n",
    "        print(\"정상적인 답변이 아닙니다.\")\n",
    "        \n",
    "print(\"반복 종료\")        "
   ]
  },
  {
   "cell_type": "code",
   "execution_count": 29,
   "id": "e9bb75d1",
   "metadata": {},
   "outputs": [
    {
     "name": "stdout",
     "output_type": "stream",
     "text": [
      "10\n",
      "20\n",
      "30\n"
     ]
    }
   ],
   "source": [
    "# java의 for each문과 유사하다.\n",
    "for i in [10,20,30]:\n",
    "    print(i)"
   ]
  },
  {
   "cell_type": "code",
   "execution_count": 30,
   "id": "8575b8bc",
   "metadata": {},
   "outputs": [
    {
     "name": "stdout",
     "output_type": "stream",
     "text": [
      "더조은\n",
      "컴퓨터\n",
      "아카데미\n"
     ]
    }
   ],
   "source": [
    "for s in ['더조은', '컴퓨터', '아카데미']:\n",
    "    print(s)"
   ]
  },
  {
   "cell_type": "code",
   "execution_count": 31,
   "id": "a595834b",
   "metadata": {},
   "outputs": [
    {
     "name": "stdout",
     "output_type": "stream",
     "text": [
      "더조은\n",
      "컴퓨터\n",
      "아카데미\n"
     ]
    }
   ],
   "source": [
    "for s in '더조은', '컴퓨터', '아카데미':\n",
    "    print(s)"
   ]
  },
  {
   "cell_type": "code",
   "execution_count": 33,
   "id": "9f746f52",
   "metadata": {},
   "outputs": [
    {
     "name": "stdout",
     "output_type": "stream",
     "text": [
      "더\n",
      "조\n",
      "은\n",
      " \n",
      "컴\n",
      "퓨\n",
      "터\n",
      " \n",
      "아\n",
      "카\n",
      "데\n",
      "미\n"
     ]
    }
   ],
   "source": [
    "for s in '더조은 컴퓨터 아카데미':\n",
    "    print(s)"
   ]
  },
  {
   "cell_type": "code",
   "execution_count": 36,
   "id": "a7f80ad2",
   "metadata": {},
   "outputs": [
    {
     "name": "stdout",
     "output_type": "stream",
     "text": [
      "0\n",
      "1\n",
      "2\n",
      "3\n",
      "4\n"
     ]
    }
   ],
   "source": [
    "for i in range(0,5): # range(0,5,1)가 default값\n",
    "    print(i)"
   ]
  },
  {
   "cell_type": "code",
   "execution_count": 37,
   "id": "ba8cd398",
   "metadata": {},
   "outputs": [
    {
     "name": "stdout",
     "output_type": "stream",
     "text": [
      "0\n",
      "2\n",
      "4\n",
      "6\n",
      "8\n"
     ]
    }
   ],
   "source": [
    "# 세번째 숫자는 step\n",
    "for i in range(0,10,2):\n",
    "    print(i)"
   ]
  },
  {
   "cell_type": "code",
   "execution_count": 39,
   "id": "378392f8",
   "metadata": {},
   "outputs": [
    {
     "name": "stdout",
     "output_type": "stream",
     "text": [
      "10\n",
      "12\n",
      "14\n",
      "16\n",
      "18\n"
     ]
    }
   ],
   "source": [
    "for i in range(10,20,2):\n",
    "    print(i)"
   ]
  },
  {
   "cell_type": "code",
   "execution_count": 40,
   "id": "82f1db7c",
   "metadata": {},
   "outputs": [
    {
     "name": "stdout",
     "output_type": "stream",
     "text": [
      "0\n",
      "1\n",
      "2\n",
      "3\n",
      "4\n"
     ]
    }
   ],
   "source": [
    "for i in range(5):\n",
    "    print(i)"
   ]
  },
  {
   "cell_type": "code",
   "execution_count": 41,
   "id": "f724875c",
   "metadata": {},
   "outputs": [
    {
     "ename": "TypeError",
     "evalue": "'int' object is not iterable",
     "output_type": "error",
     "traceback": [
      "\u001b[1;31m---------------------------------------------------------------------------\u001b[0m",
      "\u001b[1;31mTypeError\u001b[0m                                 Traceback (most recent call last)",
      "\u001b[1;32m~\\AppData\\Local\\Temp\\ipykernel_8488\\2056620572.py\u001b[0m in \u001b[0;36m<module>\u001b[1;34m\u001b[0m\n\u001b[1;32m----> 1\u001b[1;33m \u001b[1;32mfor\u001b[0m \u001b[0mi\u001b[0m \u001b[1;32min\u001b[0m \u001b[1;36m5\u001b[0m\u001b[1;33m:\u001b[0m\u001b[1;33m\u001b[0m\u001b[1;33m\u001b[0m\u001b[0m\n\u001b[0m\u001b[0;32m      2\u001b[0m     \u001b[0mprint\u001b[0m\u001b[1;33m(\u001b[0m\u001b[0mi\u001b[0m\u001b[1;33m)\u001b[0m\u001b[1;33m\u001b[0m\u001b[1;33m\u001b[0m\u001b[0m\n",
      "\u001b[1;31mTypeError\u001b[0m: 'int' object is not iterable"
     ]
    }
   ],
   "source": [
    "# 주의 \n",
    "for i in 5: # TypeError\n",
    "    print(i)"
   ]
  },
  {
   "cell_type": "code",
   "execution_count": 58,
   "id": "10710d31",
   "metadata": {},
   "outputs": [
    {
     "name": "stdout",
     "output_type": "stream",
     "text": [
      "*\n",
      "**\n",
      "***\n",
      "****\n",
      "*****\n"
     ]
    }
   ],
   "source": [
    "for i in range(1,6):\n",
    "    for j in range(i):\n",
    "        print(\"*\", end=\"\")\n",
    "        \n",
    "    print()"
   ]
  },
  {
   "cell_type": "code",
   "execution_count": 76,
   "id": "070c47c9",
   "metadata": {},
   "outputs": [
    {
     "name": "stdout",
     "output_type": "stream",
     "text": [
      "애플:www.apple.com\n",
      "네이버:www.naver.com\n",
      "파이썬:www.python.org\n"
     ]
    }
   ],
   "source": [
    "dic = {\"애플\":\"www.apple.com\",\"네이버\":\"www.naver.com\",\"파이썬\":\"www.python.org\"}\n",
    "\n",
    "for k, v in dic.items():\n",
    "    print(\"{0}:{1}\".format(k,v))"
   ]
  },
  {
   "cell_type": "code",
   "execution_count": 77,
   "id": "26a74b99",
   "metadata": {},
   "outputs": [
    {
     "name": "stdout",
     "output_type": "stream",
     "text": [
      "0\n",
      "2\n",
      "4\n",
      "6\n",
      "8\n"
     ]
    }
   ],
   "source": [
    "for i in range(10):\n",
    "    if i % 2 == 1:\n",
    "        continue\n",
    "        \n",
    "    print(i) \n",
    "        "
   ]
  },
  {
   "cell_type": "markdown",
   "id": "498ee6e4",
   "metadata": {},
   "source": [
    "## 간단하게 반복하는 한 줄 for문(Comprehension)_20221028"
   ]
  },
  {
   "cell_type": "code",
   "execution_count": 81,
   "id": "258b9f5c",
   "metadata": {},
   "outputs": [
    {
     "name": "stdout",
     "output_type": "stream",
     "text": [
      "[1, 4, 9, 16, 25]\n"
     ]
    }
   ],
   "source": [
    "numbers = [1,2,3,4,5]\n",
    "square = []\n",
    "\n",
    "for i in numbers:\n",
    "    square.append(i**2)\n",
    "    \n",
    "print(square)"
   ]
  },
  {
   "cell_type": "code",
   "execution_count": 82,
   "id": "87e1a1d9",
   "metadata": {},
   "outputs": [
    {
     "name": "stdout",
     "output_type": "stream",
     "text": [
      "[1, 4, 9, 16, 25]\n"
     ]
    }
   ],
   "source": [
    "numbers = [1,2,3,4,5]\n",
    "square = [i**2 for i in numbers]\n",
    "print(square)"
   ]
  },
  {
   "cell_type": "code",
   "execution_count": 83,
   "id": "6465d59e",
   "metadata": {},
   "outputs": [
    {
     "name": "stdout",
     "output_type": "stream",
     "text": [
      "[9, 16, 25]\n"
     ]
    }
   ],
   "source": [
    "numbers = [1,2,3,4,5]\n",
    "square = []\n",
    "\n",
    "for i in numbers:\n",
    "    if i >= 3:\n",
    "        square.append(i**2)\n",
    "\n",
    "print(square)        "
   ]
  },
  {
   "cell_type": "code",
   "execution_count": 85,
   "id": "6a825fd6",
   "metadata": {},
   "outputs": [
    {
     "name": "stdout",
     "output_type": "stream",
     "text": [
      "[9, 16, 25]\n"
     ]
    }
   ],
   "source": [
    "numbers = [1,2,3,4,5]\n",
    "square = [i**2 for i in numbers if i >= 3]\n",
    "print(square)"
   ]
  }
 ],
 "metadata": {
  "kernelspec": {
   "display_name": "Python 3 (ipykernel)",
   "language": "python",
   "name": "python3"
  },
  "language_info": {
   "codemirror_mode": {
    "name": "ipython",
    "version": 3
   },
   "file_extension": ".py",
   "mimetype": "text/x-python",
   "name": "python",
   "nbconvert_exporter": "python",
   "pygments_lexer": "ipython3",
   "version": "3.7.13"
  }
 },
 "nbformat": 4,
 "nbformat_minor": 5
}
