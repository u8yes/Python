{
 "cells": [
  {
   "cell_type": "markdown",
   "id": "1ed49ed5",
   "metadata": {},
   "source": [
    "# 조건문_20221027-28"
   ]
  },
  {
   "cell_type": "code",
   "execution_count": 6,
   "id": "fe2eeb09",
   "metadata": {
    "scrolled": true
   },
   "outputs": [
    {
     "name": "stdout",
     "output_type": "stream",
     "text": [
      "수를 입력하세요 : \n",
      "0\n",
      "0은 나눗셈에 이용할 수 없습니다.\n"
     ]
    },
    {
     "ename": "SystemExit",
     "evalue": "0",
     "output_type": "error",
     "traceback": [
      "An exception has occurred, use %tb to see the full traceback.\n",
      "\u001b[1;31mSystemExit\u001b[0m\u001b[1;31m:\u001b[0m 0\n"
     ]
    }
   ],
   "source": [
    "import sys\n",
    "\n",
    "print(\"수를 입력하세요 : \")\n",
    "\n",
    "num = int(input())\n",
    "\n",
    "if num == 0:\n",
    "    print('0은 나눗셈에 이용할 수 없습니다.')\n",
    "    sys.exit(0) # 들여쓰기를 해야 if문에 포함된다.\n",
    "    \n",
    "print('3 /', num, '=', 3/num)\n",
    "\n"
   ]
  },
  {
   "cell_type": "code",
   "execution_count": 1,
   "id": "6c6f1a32",
   "metadata": {},
   "outputs": [
    {
     "name": "stdout",
     "output_type": "stream",
     "text": [
      "수를 입력하세요 : \n",
      "3\n",
      "3 / 3 = 1.0\n",
      "프로그램 종료\n"
     ]
    }
   ],
   "source": [
    "print(\"수를 입력하세요 : \")\n",
    "\n",
    "num = int(input())\n",
    "\n",
    "# interpreter 방식에서는 인식을 하기 위해서 ':' 표시를 통해 if문을 사용하기 위해 들여쓰기가 필요하다. \n",
    "# 파이썬은 자동으로 들여쓰기가 됨.\n",
    "if num == 0:\n",
    "    print('0은 나눗셈에 이용할 수 없습니다.')\n",
    "else:\n",
    "    print('3 /', num, '=', 3/num)\n",
    "\n",
    "# 꼭 한줄을 넘어가자\n",
    "# 조건절을 떠나서 항상 실행할 수 있는 환경으로 돌아옴.\n",
    "print(\"프로그램 종료\")"
   ]
  },
  {
   "cell_type": "code",
   "execution_count": 4,
   "id": "df4044cc",
   "metadata": {},
   "outputs": [
    {
     "name": "stdout",
     "output_type": "stream",
     "text": [
      "요일(월-일을 입력하세요 : \n",
      "주일\n",
      "Sunday\n"
     ]
    }
   ],
   "source": [
    "print(\"요일(월-일을 입력하세요 : \")\n",
    "\n",
    "dow = input()\n",
    "# elif = elseif\n",
    "\n",
    "if dow == '월':\n",
    "    print(\"Monday\")\n",
    "elif dow == '화':\n",
    "    print(\"Tuesday\")\n",
    "elif dow == '수':\n",
    "    print(\"Wednesday\")\n",
    "elif dow == '목':\n",
    "    print(\"Thursday\")\n",
    "elif dow == '금':\n",
    "    print(\"Friday\")\n",
    "elif dow == '토':\n",
    "    print(\"Saturday\")\n",
    "elif dow == '주일':\n",
    "    print(\"Sunday\")\n",
    "else:\n",
    "    print(\"잘못 입력된 요일입니다.\")\n"
   ]
  },
  {
   "cell_type": "code",
   "execution_count": 10,
   "id": "fb6b571a",
   "metadata": {},
   "outputs": [
    {
     "name": "stdout",
     "output_type": "stream",
     "text": [
      "수를 입력하세요 : \n",
      "6\n",
      "10이하의 짝수\n"
     ]
    }
   ],
   "source": [
    "# if문 예제1)\n",
    "print(\"수를 입력하세요 : \")\n",
    "\n",
    "num = int(input())\n",
    "\n",
    "if num > 10:\n",
    "    if num % 2 == 0:\n",
    "        print(\"10보다 큰 짝수\")\n",
    "    else:\n",
    "        print(\"10보다 큰 홀수\")\n",
    "else:\n",
    "    if num % 2 == 0:\n",
    "        print(\"10이하의 짝수\")\n",
    "    else:\n",
    "        print(\"10이하의 홀수\")\n",
    "    "
   ]
  },
  {
   "cell_type": "code",
   "execution_count": 14,
   "id": "6e6e8f2c",
   "metadata": {},
   "outputs": [
    {
     "name": "stdout",
     "output_type": "stream",
     "text": [
      "수를 입력하세요 : \n",
      "7\n",
      "10이하의 홀수\n"
     ]
    }
   ],
   "source": [
    "# if문 예제2)\n",
    "# 동일한 조건문을 줄여서 표현\n",
    "print(\"수를 입력하세요 : \")\n",
    "\n",
    "num = int(input())\n",
    "\n",
    "if num > 10 and num % 2 == 0:\n",
    "    print(\"10보다 큰 짝수\")\n",
    "elif num > 10 and num % 2 != 0:\n",
    "    print(\"10보다 큰 홀수\")\n",
    "elif num % 2 == 0:\n",
    "    print(\"10이하의 짝수\")\n",
    "else:\n",
    "    print(\"10이하의 홀수\")\n"
   ]
  },
  {
   "cell_type": "markdown",
   "id": "4ce6843d",
   "metadata": {},
   "source": [
    "# 반복문(while, for)_20221028"
   ]
  },
  {
   "cell_type": "code",
   "execution_count": 21,
   "id": "8fd81fda",
   "metadata": {},
   "outputs": [
    {
     "name": "stdout",
     "output_type": "stream",
     "text": [
      "몇 번 반복할까요? : \n",
      "3\n",
      "1회 반복\n",
      "2회 반복\n",
      "3회 반복\n",
      "반복이 종료\n"
     ]
    }
   ],
   "source": [
    "print(\"몇 번 반복할까요? : \")\n",
    "\n",
    "limit = int(input())\n",
    "\n",
    "count = 0\n",
    "\n",
    "# count가 limit보다 커질 때까지 반복한다. # .format 방식은 메서드 체이닝 방식\n",
    "# {0}부터 카운팅 되는 매개변수값이다.\n",
    "while count < limit:\n",
    "    count += 1 # count = count + 1 # count++은 지원이 안 됨\n",
    "    print('{0}회 반복'.format(count))\n",
    "    \n",
    "print(\"반복이 종료\")"
   ]
  },
  {
   "cell_type": "code",
   "execution_count": 28,
   "id": "06e949e9",
   "metadata": {},
   "outputs": [
    {
     "name": "stdout",
     "output_type": "stream",
     "text": [
      "반복을 계속할까요? [예/아니요] : \n",
      "아니요\n",
      "반복 종료\n"
     ]
    }
   ],
   "source": [
    "while True:\n",
    "    print(\"반복을 계속할까요? [예/아니요] : \")\n",
    "    answer = input()\n",
    "    \n",
    "    if answer == \"예\":\n",
    "        print(\"반복을 계속합니다.\")\n",
    "    elif answer == \"아니요\":\n",
    "        break\n",
    "    else:\n",
    "        print(\"정상적인 답변이 아닙니다.\")\n",
    "        \n",
    "print(\"반복 종료\")        "
   ]
  },
  {
   "cell_type": "code",
   "execution_count": null,
   "id": "8b06a536",
   "metadata": {},
   "outputs": [],
   "source": []
  }
 ],
 "metadata": {
  "kernelspec": {
   "display_name": "Python 3 (ipykernel)",
   "language": "python",
   "name": "python3"
  },
  "language_info": {
   "codemirror_mode": {
    "name": "ipython",
    "version": 3
   },
   "file_extension": ".py",
   "mimetype": "text/x-python",
   "name": "python",
   "nbconvert_exporter": "python",
   "pygments_lexer": "ipython3",
   "version": "3.7.13"
  }
 },
 "nbformat": 4,
 "nbformat_minor": 5
}
