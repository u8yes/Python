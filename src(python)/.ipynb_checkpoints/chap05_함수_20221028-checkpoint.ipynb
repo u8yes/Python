{
 "cells": [
  {
   "cell_type": "markdown",
   "id": "88dcd73c",
   "metadata": {},
   "source": [
    "# 함수 정의 방법_20221028\n"
   ]
  },
  {
   "cell_type": "code",
   "execution_count": 2,
   "id": "110bce8d",
   "metadata": {},
   "outputs": [
    {
     "name": "stdout",
     "output_type": "stream",
     "text": [
      "welcome Holy Spirit!!!!\n"
     ]
    }
   ],
   "source": [
    "def hello():\n",
    "    print(\"welcome Holy Spirit!!!!\")\n",
    "    \n",
    "hello() # 호출 방법"
   ]
  },
  {
   "cell_type": "code",
   "execution_count": 5,
   "id": "95d067ce",
   "metadata": {},
   "outputs": [
    {
     "name": "stdout",
     "output_type": "stream",
     "text": [
      "10\n",
      "<function my_abs at 0x000001C7A7077828>\n"
     ]
    }
   ],
   "source": [
    "# 호출과 반환\n",
    "\n",
    "def my_abs(arg):\n",
    "    if(arg < 0):\n",
    "        result = arg * -1\n",
    "    else:\n",
    "        result = arg\n",
    "    \n",
    "    return result\n",
    "\n",
    "# my_abs() # TypeError\n",
    "print(my_abs(-10))\n",
    "print(my_abs) # 할당된 주소값 변환"
   ]
  },
  {
   "cell_type": "code",
   "execution_count": 6,
   "id": "fb1e7d9c",
   "metadata": {},
   "outputs": [
    {
     "name": "stdout",
     "output_type": "stream",
     "text": [
      "안녕하세요.\n",
      "안녕하세요.\n",
      "안녕하세요.\n"
     ]
    }
   ],
   "source": [
    "# 인자(argument) 이름의 올바른 예\n",
    "\n",
    "def print_string1(text, count):\n",
    "    for i in range(count):\n",
    "        print(text)\n",
    "        \n",
    "print_string1(\"안녕하세요.\", 3)        "
   ]
  },
  {
   "cell_type": "code",
   "execution_count": 12,
   "id": "59576572",
   "metadata": {
    "scrolled": true
   },
   "outputs": [
    {
     "name": "stdout",
     "output_type": "stream",
     "text": [
      "안녕하세요.\n"
     ]
    }
   ],
   "source": [
    "# 기본값 인자(Default Argument Value)\n",
    "\n",
    "def print_string2(text, count=1):\n",
    "    for i in range(count):\n",
    "        print(text)\n",
    "        \n",
    "print_string2(\"안녕하세요.\")"
   ]
  },
  {
   "cell_type": "markdown",
   "id": "14d53c31",
   "metadata": {},
   "source": [
    "## 키워드 인자(Keyword Argument)_20221028\n",
    "    : 호출자가 매개변수의 이름을 일일이 지정해 데이터를 입력하는 것."
   ]
  },
  {
   "cell_type": "code",
   "execution_count": 14,
   "id": "a97a8b2b",
   "metadata": {},
   "outputs": [],
   "source": [
    "def print_personel1(name, position=\"staff\", nationality=\"korea\"):\n",
    "    print(f\"name = {name}\")\n",
    "    print(f\"position = {position}\")\n",
    "    print(f\"nationality = {nationality}\")\n",
    "\n"
   ]
  },
  {
   "cell_type": "code",
   "execution_count": 15,
   "id": "417c25d8",
   "metadata": {
    "scrolled": true
   },
   "outputs": [
    {
     "name": "stdout",
     "output_type": "stream",
     "text": [
      "name = 홍길동\n",
      "position = student\n",
      "nationality = American\n"
     ]
    }
   ],
   "source": [
    "print_personel1(\"Jesus\", \"carpenter\", \"American\")"
   ]
  },
  {
   "cell_type": "code",
   "execution_count": 18,
   "id": "82ff1077",
   "metadata": {},
   "outputs": [
    {
     "name": "stdout",
     "output_type": "stream",
     "text": [
      "name = 홍길동\n",
      "position = student\n",
      "nationality = korea\n"
     ]
    }
   ],
   "source": [
    "print_personel1(\"홍길동\", \"carpenter\")"
   ]
  },
  {
   "cell_type": "code",
   "execution_count": 19,
   "id": "c81916c8",
   "metadata": {},
   "outputs": [
    {
     "name": "stdout",
     "output_type": "stream",
     "text": [
      "name = 홍길동\n",
      "position = staff\n",
      "nationality = korea\n"
     ]
    }
   ],
   "source": [
    "print_personel1(\"홍길동\")"
   ]
  },
  {
   "cell_type": "code",
   "execution_count": 20,
   "id": "0d2832ea",
   "metadata": {},
   "outputs": [
    {
     "name": "stdout",
     "output_type": "stream",
     "text": [
      "name = 베드로\n",
      "position = staff\n",
      "nationality = korea\n"
     ]
    }
   ],
   "source": [
    "print_personel1(name = \"베드로\")"
   ]
  },
  {
   "cell_type": "code",
   "execution_count": 22,
   "id": "1b28fc6e",
   "metadata": {},
   "outputs": [
    {
     "ename": "TypeError",
     "evalue": "print_personel1() missing 1 required positional argument: 'name'",
     "output_type": "error",
     "traceback": [
      "\u001b[1;31m---------------------------------------------------------------------------\u001b[0m",
      "\u001b[1;31mTypeError\u001b[0m                                 Traceback (most recent call last)",
      "\u001b[1;32m~\\AppData\\Local\\Temp\\ipykernel_3064\\4017621840.py\u001b[0m in \u001b[0;36m<module>\u001b[1;34m\u001b[0m\n\u001b[1;32m----> 1\u001b[1;33m \u001b[0mprint_personel1\u001b[0m\u001b[1;33m(\u001b[0m\u001b[0mnationality\u001b[0m\u001b[1;33m=\u001b[0m\u001b[1;34m\"israel\"\u001b[0m\u001b[1;33m)\u001b[0m\u001b[1;33m\u001b[0m\u001b[1;33m\u001b[0m\u001b[0m\n\u001b[0m",
      "\u001b[1;31mTypeError\u001b[0m: print_personel1() missing 1 required positional argument: 'name'"
     ]
    }
   ],
   "source": [
    "print_personel1(nationality=\"israel\") # TypeError - name에 데이터 미전달."
   ]
  },
  {
   "cell_type": "code",
   "execution_count": 24,
   "id": "be318d07",
   "metadata": {},
   "outputs": [
    {
     "name": "stdout",
     "output_type": "stream",
     "text": [
      "name = 이승만\n",
      "position = staff\n",
      "nationality = korea\n"
     ]
    }
   ],
   "source": [
    "print_personel1(name=\"이승만\", nationality=\"korea\")"
   ]
  },
  {
   "cell_type": "code",
   "execution_count": 25,
   "id": "5014cbdf",
   "metadata": {},
   "outputs": [
    {
     "name": "stdout",
     "output_type": "stream",
     "text": [
      "name = 박명수\n",
      "position = business\n",
      "nationality = korea\n"
     ]
    }
   ],
   "source": [
    "print_personel1(position=\"business\", name=\"박명수\")"
   ]
  },
  {
   "cell_type": "code",
   "execution_count": 26,
   "id": "cd7ab92d",
   "metadata": {},
   "outputs": [
    {
     "ename": "TypeError",
     "evalue": "print_personel1() got an unexpected keyword argument 'pos'",
     "output_type": "error",
     "traceback": [
      "\u001b[1;31m---------------------------------------------------------------------------\u001b[0m",
      "\u001b[1;31mTypeError\u001b[0m                                 Traceback (most recent call last)",
      "\u001b[1;32m~\\AppData\\Local\\Temp\\ipykernel_3064\\3432787250.py\u001b[0m in \u001b[0;36m<module>\u001b[1;34m\u001b[0m\n\u001b[1;32m----> 1\u001b[1;33m \u001b[0mprint_personel1\u001b[0m\u001b[1;33m(\u001b[0m\u001b[0mpos\u001b[0m\u001b[1;33m=\u001b[0m\u001b[1;34m\"business\"\u001b[0m\u001b[1;33m,\u001b[0m \u001b[0mname\u001b[0m\u001b[1;33m=\u001b[0m\u001b[1;34m\"박명수\"\u001b[0m\u001b[1;33m)\u001b[0m\u001b[1;33m\u001b[0m\u001b[1;33m\u001b[0m\u001b[0m\n\u001b[0m",
      "\u001b[1;31mTypeError\u001b[0m: print_personel1() got an unexpected keyword argument 'pos'"
     ]
    }
   ],
   "source": [
    "print_personel1(pos=\"business\", name=\"박명수\") # TypeError # 매개변수 이름을 축약해서 쓰는 건 'R'에서만 가능함"
   ]
  },
  {
   "cell_type": "markdown",
   "id": "805ef83d",
   "metadata": {},
   "source": [
    "# - 가변 매개 변수(Arbitrary Argument List)"
   ]
  },
  {
   "cell_type": "code",
   "execution_count": 32,
   "id": "8a494868",
   "metadata": {},
   "outputs": [
    {
     "name": "stdout",
     "output_type": "stream",
     "text": [
      "<class 'tuple'>\n",
      "세상을 이처럼 사랑하사 독생자 예수를 주셨느니라 (요3:16)\n"
     ]
    }
   ],
   "source": [
    "def merge_string(*text_list): # 계속 받는 인자에 대해 매개변수를 여러개 받을 수 있음\n",
    "    print(type(text_list)) # <class 'tuple'>\n",
    "    \n",
    "    result = \"\"\n",
    "    for s in text_list:\n",
    "        result += s\n",
    "        \n",
    "    return result\n",
    "\n",
    "print(merge_string('세상을 이처럼 ', '사랑하사 ', '독생자 예수를 주셨느니라 (요3:16)'))"
   ]
  },
  {
   "cell_type": "code",
   "execution_count": null,
   "id": "e52f2c11",
   "metadata": {},
   "outputs": [],
   "source": []
  }
 ],
 "metadata": {
  "kernelspec": {
   "display_name": "Python 3 (ipykernel)",
   "language": "python",
   "name": "python3"
  },
  "language_info": {
   "codemirror_mode": {
    "name": "ipython",
    "version": 3
   },
   "file_extension": ".py",
   "mimetype": "text/x-python",
   "name": "python",
   "nbconvert_exporter": "python",
   "pygments_lexer": "ipython3",
   "version": "3.7.13"
  }
 },
 "nbformat": 4,
 "nbformat_minor": 5
}
