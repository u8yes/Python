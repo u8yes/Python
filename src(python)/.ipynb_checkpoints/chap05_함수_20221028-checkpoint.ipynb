{
 "cells": [
  {
   "cell_type": "markdown",
   "id": "72b4c40a",
   "metadata": {},
   "source": [
    "# 함수 정의 방법_20221028\n"
   ]
  },
  {
   "cell_type": "code",
   "execution_count": 2,
   "id": "f25c7f28",
   "metadata": {},
   "outputs": [
    {
     "name": "stdout",
     "output_type": "stream",
     "text": [
      "welcome Holy Spirit!!!!\n"
     ]
    }
   ],
   "source": [
    "def hello():\n",
    "    print(\"welcome Holy Spirit!!!!\")\n",
    "    \n",
    "hello() # 호출 방법"
   ]
  },
  {
   "cell_type": "code",
   "execution_count": 5,
   "id": "5b720b72",
   "metadata": {},
   "outputs": [
    {
     "name": "stdout",
     "output_type": "stream",
     "text": [
      "10\n",
      "<function my_abs at 0x000001C7A7077828>\n"
     ]
    }
   ],
   "source": [
    "# 호출과 반환\n",
    "\n",
    "def my_abs(arg):\n",
    "    if(arg < 0):\n",
    "        result = arg * -1\n",
    "    else:\n",
    "        result = arg\n",
    "    \n",
    "    return result\n",
    "\n",
    "# my_abs() # TypeError\n",
    "print(my_abs(-10))\n",
    "print(my_abs) # 할당된 주소값 변환"
   ]
  },
  {
   "cell_type": "code",
   "execution_count": 6,
   "id": "26e6f3ac",
   "metadata": {},
   "outputs": [
    {
     "name": "stdout",
     "output_type": "stream",
     "text": [
      "안녕하세요.\n",
      "안녕하세요.\n",
      "안녕하세요.\n"
     ]
    }
   ],
   "source": [
    "# 인자(argument) 이름의 올바른 예\n",
    "\n",
    "def print_string1(text, count):\n",
    "    for i in range(count):\n",
    "        print(text)\n",
    "        \n",
    "print_string1(\"안녕하세요.\", 3)        "
   ]
  },
  {
   "cell_type": "code",
   "execution_count": 12,
   "id": "38feb67b",
   "metadata": {
    "scrolled": true
   },
   "outputs": [
    {
     "name": "stdout",
     "output_type": "stream",
     "text": [
      "안녕하세요.\n"
     ]
    }
   ],
   "source": [
    "# 기본값 인자(Default Argument Value)\n",
    "\n",
    "def print_string2(text, count=1):\n",
    "    for i in range(count):\n",
    "        print(text)\n",
    "        \n",
    "print_string2(\"안녕하세요.\")"
   ]
  },
  {
   "cell_type": "code",
   "execution_count": null,
   "id": "c08878ab",
   "metadata": {},
   "outputs": [],
   "source": []
  }
 ],
 "metadata": {
  "kernelspec": {
   "display_name": "Python 3 (ipykernel)",
   "language": "python",
   "name": "python3"
  },
  "language_info": {
   "codemirror_mode": {
    "name": "ipython",
    "version": 3
   },
   "file_extension": ".py",
   "mimetype": "text/x-python",
   "name": "python",
   "nbconvert_exporter": "python",
   "pygments_lexer": "ipython3",
   "version": "3.7.13"
  }
 },
 "nbformat": 4,
 "nbformat_minor": 5
}
