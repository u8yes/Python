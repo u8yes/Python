{
 "cells": [
  {
   "cell_type": "code",
   "execution_count": null,
   "id": "9027db11",
   "metadata": {},
   "outputs": [],
   "source": [
    "## 파이썬의 예외 처리 구문1_20221103\n",
    "\n",
    "\"\"\"\n",
    "try\n",
    "    문제가 없을 경우 실행 코드\n",
    "except\n",
    "    문제가 생겼을 때 실행 코드\n",
    "\"\"\""
   ]
  },
  {
   "cell_type": "code",
   "execution_count": 3,
   "id": "e7466eff",
   "metadata": {},
   "outputs": [
    {
     "name": "stdout",
     "output_type": "stream",
     "text": [
      "예외가 발생했습니다.\n",
      "프로그램 종료\n"
     ]
    }
   ],
   "source": [
    "try:\n",
    "    print( 1 / 0 )\n",
    "except:\n",
    "    print(\"예외가 발생했습니다.\")\n",
    "    \n",
    "print(\"프로그램 종료\")"
   ]
  },
  {
   "cell_type": "code",
   "execution_count": null,
   "id": "6cee5a65",
   "metadata": {},
   "outputs": [],
   "source": [
    "# 파이썬의 예외 처리 구문2\n",
    "\n",
    "\"\"\"\n",
    "try:\n",
    "    문제가 없을 경우 실행 할 코드\n",
    "except 예외형식1 as 별칭:\n",
    "    문제가 생겼을 때 실행 할 코드\n",
    "except 예외형식2 as 별칭:\n",
    "    문제가 생겼을 때 실행 할 코드\n",
    "\"\"\""
   ]
  },
  {
   "cell_type": "code",
   "execution_count": 25,
   "id": "4e84e838",
   "metadata": {},
   "outputs": [
    {
     "name": "stdout",
     "output_type": "stream",
     "text": [
      "첨자(인덱스)를 입력하세요\n",
      "5\n",
      "잘못된 첨자입니다(list index out of range)\n",
      "예외가 났던 안 났던 프로그램 종료합니다.\n"
     ]
    }
   ],
   "source": [
    "my_list = [1,2,3]\n",
    "\n",
    "# my_list[4] # IndexError: list index out of range\n",
    "\n",
    "try:\n",
    "    print(\"첨자(인덱스)를 입력하세요\")\n",
    "    index = int(input())\n",
    "    print(my_list[index] / 0)\n",
    "except IndexError as e:\n",
    "    print(f\"잘못된 첨자입니다({e})\")\n",
    "except ValueError as e:\n",
    "    print(f\"잘못된 값입니다({e})\")\n",
    "except ZeroDivisionError as e:\n",
    "    print(f\"0으로 나눌 수 없습니다({e})\")\n",
    "\n",
    "print(\"예외가 났던 안 났던 프로그램 종료합니다.\")"
   ]
  },
  {
   "cell_type": "code",
   "execution_count": null,
   "id": "22e6bbb8",
   "metadata": {},
   "outputs": [],
   "source": [
    "# 파이썬의 예외 처리 구문3\n",
    "\n",
    "\"\"\"\n",
    "try:\n",
    "    문제가 없을 경우 실행 할 코드\n",
    "except 예외형식1 as 별칭:\n",
    "    문제가 생겼을 때 실행 할 코드\n",
    "except 예외형식2 as 별칭:\n",
    "    문제가 생겼을 때 실행 할 코드\n",
    "else:\n",
    "    except 절을 만나지 않았을 경우 실행하는 코드 블럭\n",
    "\"\"\""
   ]
  },
  {
   "cell_type": "code",
   "execution_count": 40,
   "id": "6e42be4f",
   "metadata": {},
   "outputs": [
    {
     "name": "stdout",
     "output_type": "stream",
     "text": [
      "첨자(인덱스)를 입력하세요\n",
      "1\n",
      "my_list[1]:2\n",
      "리스트의 요소 출력 성공(성공시에만 뜨는 텍스트, finally와 다른 점, 한번이라도 예외가 생기면 else를 수행하지 않음)\n",
      "예외가 났던 안 났던 프로그램 종료합니다.\n"
     ]
    }
   ],
   "source": [
    "my_list = [1,2,3]\n",
    "\n",
    "# my_list[4] # IndexError: list index out of range\n",
    "\n",
    "try:\n",
    "    print(\"첨자(인덱스)를 입력하세요\")\n",
    "    index = int(input())\n",
    "    print(f\"my_list[{index}]:{my_list[index]}\")\n",
    "except Exception as e:\n",
    "    print(f\"예외가 발생했습니다({e})\")\n",
    "else:\n",
    "    print(\"리스트의 요소 출력 성공(성공시에만 뜨는 텍스트, finally와 다른 점, 한번이라도 예외가 생기면 else를 수행하지 않음)\")\n",
    "\n",
    "print(\"예외가 났던 안 났던 프로그램 종료합니다.\")"
   ]
  },
  {
   "cell_type": "code",
   "execution_count": null,
   "id": "381279c5",
   "metadata": {},
   "outputs": [],
   "source": [
    "# 파이썬의 예외 처리 구문4\n",
    "\n",
    "\"\"\"\n",
    "try:\n",
    "    문제가 없을 경우 실행 할 코드\n",
    "except 예외형식1 as 별칭:\n",
    "    문제가 생겼을 때 실행 할 코드\n",
    "except 예외형식2 as 별칭:\n",
    "    문제가 생겼을 때 실행 할 코드\n",
    "else:\n",
    "    except 절을 만나지 않았을 경우 실행하는 코드 블럭\n",
    "finally:\n",
    "    코드 블록\n",
    "    \n",
    "or\n",
    "    \n",
    "try:\n",
    "    문제가 없을 경우 실행 할 코드\n",
    "except:\n",
    "    예외 처리 코드 블록\n",
    "finally:\n",
    "    코드 블록        \n",
    "\"\"\""
   ]
  },
  {
   "cell_type": "code",
   "execution_count": 45,
   "id": "44ca3a70",
   "metadata": {},
   "outputs": [
    {
     "name": "stdout",
     "output_type": "stream",
     "text": [
      "인덱스를 입력하세요: \n",
      "5\n",
      "예외가 발생했습니다(list index out of range)\n",
      "무슨 일이 있어도 마무리합니다.\n",
      "프로그램 종료\n"
     ]
    }
   ],
   "source": [
    "my_list = [1,2,3]\n",
    "\n",
    "try:\n",
    "    print(\"인덱스를 입력하세요: \")\n",
    "    index = int(input())\n",
    "    print(f\"my_list[{index}]:{my_list[index]}\")\n",
    "except Exception as e:\n",
    "    print(f\"예외가 발생했습니다({e})\")\n",
    "finally:\n",
    "    print(\"무슨 일이 있어도 마무리합니다.\")\n",
    "\n",
    "print(\"프로그램 종료\")"
   ]
  },
  {
   "cell_type": "markdown",
   "id": "4b7e7210",
   "metadata": {},
   "source": [
    "# - 강제 예외 발생_20221103"
   ]
  },
  {
   "cell_type": "code",
   "execution_count": 49,
   "id": "606f9418",
   "metadata": {
    "scrolled": true
   },
   "outputs": [
    {
     "name": "stdout",
     "output_type": "stream",
     "text": [
      "123일이상\n"
     ]
    },
    {
     "ename": "Exception",
     "evalue": "입력 받은 문자열이 숫자로 구성되어 있지 않습니다.",
     "output_type": "error",
     "traceback": [
      "\u001b[1;31m---------------------------------------------------------------------------\u001b[0m",
      "\u001b[1;31mException\u001b[0m                                 Traceback (most recent call last)",
      "\u001b[1;32m~\\AppData\\Local\\Temp\\ipykernel_13720\\2438931714.py\u001b[0m in \u001b[0;36m<module>\u001b[1;34m\u001b[0m\n\u001b[0;32m      2\u001b[0m \u001b[1;33m\u001b[0m\u001b[0m\n\u001b[0;32m      3\u001b[0m \u001b[1;32mif\u001b[0m \u001b[0mtext\u001b[0m\u001b[1;33m.\u001b[0m\u001b[0misdigit\u001b[0m\u001b[1;33m(\u001b[0m\u001b[1;33m)\u001b[0m \u001b[1;33m==\u001b[0m \u001b[1;32mFalse\u001b[0m\u001b[1;33m:\u001b[0m\u001b[1;33m\u001b[0m\u001b[1;33m\u001b[0m\u001b[0m\n\u001b[1;32m----> 4\u001b[1;33m     \u001b[1;32mraise\u001b[0m \u001b[0mException\u001b[0m\u001b[1;33m(\u001b[0m\u001b[1;34m\"입력 받은 문자열이 숫자로 구성되어 있지 않습니다.\"\u001b[0m\u001b[1;33m)\u001b[0m\u001b[1;33m\u001b[0m\u001b[1;33m\u001b[0m\u001b[0m\n\u001b[0m\u001b[0;32m      5\u001b[0m \u001b[1;33m\u001b[0m\u001b[0m\n\u001b[0;32m      6\u001b[0m \u001b[0mprint\u001b[0m\u001b[1;33m(\u001b[0m\u001b[1;34m\"프로그램 종료\"\u001b[0m\u001b[1;33m)\u001b[0m\u001b[1;33m\u001b[0m\u001b[1;33m\u001b[0m\u001b[0m\n",
      "\u001b[1;31mException\u001b[0m: 입력 받은 문자열이 숫자로 구성되어 있지 않습니다."
     ]
    }
   ],
   "source": [
    "text = input()\n",
    "\n",
    "if text.isdigit() == False:\n",
    "    raise Exception(\"입력 받은 문자열이 숫자로 구성되어 있지 않습니다.\")\n",
    "    \n",
    "print(\"프로그램 종료\")"
   ]
  },
  {
   "cell_type": "code",
   "execution_count": 54,
   "id": "1d07ccd2",
   "metadata": {},
   "outputs": [
    {
     "name": "stdout",
     "output_type": "stream",
     "text": [
      "ㄴ\n",
      "예외가 발생했습니다 : 입력 받은 문자열이 숫자가 아닙니다.\n",
      "프로그램 종료\n"
     ]
    }
   ],
   "source": [
    "try:\n",
    "    text = input()\n",
    "\n",
    "    if text.isdigit() == False:\n",
    "        raise Exception(\"입력 받은 문자열이 숫자가 아닙니다.\")\n",
    "    \n",
    "except Exception as e:\n",
    "    print(f\"예외가 발생했습니다 : {e}\")\n",
    "    \n",
    "print(\"프로그램 종료\")"
   ]
  },
  {
   "cell_type": "code",
   "execution_count": null,
   "id": "2f20e639",
   "metadata": {},
   "outputs": [],
   "source": []
  }
 ],
 "metadata": {
  "kernelspec": {
   "display_name": "Python [conda env:tf_cpu] *",
   "language": "python",
   "name": "conda-env-tf_cpu-py"
  },
  "language_info": {
   "codemirror_mode": {
    "name": "ipython",
    "version": 3
   },
   "file_extension": ".py",
   "mimetype": "text/x-python",
   "name": "python",
   "nbconvert_exporter": "python",
   "pygments_lexer": "ipython3",
   "version": "3.7.13"
  }
 },
 "nbformat": 4,
 "nbformat_minor": 5
}
