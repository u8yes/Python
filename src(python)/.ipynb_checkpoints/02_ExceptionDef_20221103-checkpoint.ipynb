{
 "cells": [
  {
   "cell_type": "code",
   "execution_count": null,
   "id": "85dd0499",
   "metadata": {},
   "outputs": [],
   "source": [
    "## 파이썬의 예외 처리 구문1\n",
    "\n",
    "\n",
    "\"\"\"\n",
    "try\n",
    "    문제가 없을 경우 실행 코드\n",
    "except\n",
    "    문제가 생겼을 때 실행 코드\n",
    "\"\"\""
   ]
  },
  {
   "cell_type": "code",
   "execution_count": 3,
   "id": "f6e8d19b",
   "metadata": {},
   "outputs": [
    {
     "name": "stdout",
     "output_type": "stream",
     "text": [
      "예외가 발생했습니다.\n",
      "프로그램 종료\n"
     ]
    }
   ],
   "source": [
    "try:\n",
    "    print( 1 / 0 )\n",
    "except:\n",
    "    print(\"예외가 발생했습니다.\")\n",
    "    \n",
    "print(\"프로그램 종료\")"
   ]
  },
  {
   "cell_type": "code",
   "execution_count": null,
   "id": "5ed3c404",
   "metadata": {},
   "outputs": [],
   "source": [
    "# 파이썬의 예외 처리 구문2\n",
    "\n",
    "\"\"\"\n",
    "try:\n",
    "    문제가 없을 경우 실행 할 코드\n",
    "except 예외형식1 as 별칭:\n",
    "    문제가 생겼을 때 실행 할 코드\n",
    "except 예외형식2 as 별칭:\n",
    "    문제가 생겼을 때 실행 할 코드\n",
    "\"\"\""
   ]
  },
  {
   "cell_type": "code",
   "execution_count": 25,
   "id": "1b686064",
   "metadata": {},
   "outputs": [
    {
     "name": "stdout",
     "output_type": "stream",
     "text": [
      "첨자(인덱스)를 입력하세요\n",
      "5\n",
      "잘못된 첨자입니다(list index out of range)\n",
      "예외가 났던 안 났던 프로그램 종료합니다.\n"
     ]
    }
   ],
   "source": [
    "my_list = [1,2,3]\n",
    "\n",
    "# my_list[4] # IndexError: list index out of range\n",
    "\n",
    "try:\n",
    "    print(\"첨자(인덱스)를 입력하세요\")\n",
    "    index = int(input())\n",
    "    print(my_list[index] / 0)\n",
    "except IndexError as e:\n",
    "    print(f\"잘못된 첨자입니다({e})\")\n",
    "except ValueError as e:\n",
    "    print(f\"잘못된 값입니다({e})\")\n",
    "except ZeroDivisionError as e:\n",
    "    print(f\"0으로 나눌 수 없습니다({e})\")\n",
    "\n",
    "print(\"예외가 났던 안 났던 프로그램 종료합니다.\")"
   ]
  },
  {
   "cell_type": "code",
   "execution_count": null,
   "id": "44981eda",
   "metadata": {},
   "outputs": [],
   "source": []
  }
 ],
 "metadata": {
  "kernelspec": {
   "display_name": "Python [conda env:tf_cpu] *",
   "language": "python",
   "name": "conda-env-tf_cpu-py"
  },
  "language_info": {
   "codemirror_mode": {
    "name": "ipython",
    "version": 3
   },
   "file_extension": ".py",
   "mimetype": "text/x-python",
   "name": "python",
   "nbconvert_exporter": "python",
   "pygments_lexer": "ipython3",
   "version": "3.7.13"
  }
 },
 "nbformat": 4,
 "nbformat_minor": 5
}
