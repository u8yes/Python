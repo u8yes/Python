{
 "cells": [
  {
   "cell_type": "markdown",
   "id": "0d0c4efd",
   "metadata": {},
   "source": [
    "# 변수명 규칙\n",
    "### - 문자, 숫자, '_' 가능. 단, 숫자로 시작할 수 없다.\n",
    "### - 대/소문자를 구별(NUM, num).\n",
    "### - 예약어(키워드) 사용 불가능"
   ]
  },
  {
   "cell_type": "code",
   "execution_count": 12,
   "id": "1abdf43a",
   "metadata": {},
   "outputs": [
    {
     "name": "stdout",
     "output_type": "stream",
     "text": [
      "<class 'int'>\n",
      "<class 'str'>\n"
     ]
    }
   ],
   "source": [
    "# 변수(정수)\n",
    "a = 123456789\n",
    "b = \"홍길동\"\n",
    "a # print(a)\n",
    "b # print(b)\n",
    "print(type(a))\n",
    "print(type(b))"
   ]
  },
  {
   "cell_type": "code",
   "execution_count": 13,
   "id": "96c535a9",
   "metadata": {},
   "outputs": [
    {
     "name": "stdout",
     "output_type": "stream",
     "text": [
      "123456789\n"
     ]
    }
   ],
   "source": [
    "print(a)"
   ]
  },
  {
   "cell_type": "code",
   "execution_count": null,
   "id": "3ce24dd7",
   "metadata": {},
   "outputs": [],
   "source": []
  }
 ],
 "metadata": {
  "kernelspec": {
   "display_name": "Python [conda env:tf_cpu] *",
   "language": "python",
   "name": "conda-env-tf_cpu-py"
  },
  "language_info": {
   "codemirror_mode": {
    "name": "ipython",
    "version": 3
   },
   "file_extension": ".py",
   "mimetype": "text/x-python",
   "name": "python",
   "nbconvert_exporter": "python",
   "pygments_lexer": "ipython3",
   "version": "3.7.13"
  }
 },
 "nbformat": 4,
 "nbformat_minor": 5
}
