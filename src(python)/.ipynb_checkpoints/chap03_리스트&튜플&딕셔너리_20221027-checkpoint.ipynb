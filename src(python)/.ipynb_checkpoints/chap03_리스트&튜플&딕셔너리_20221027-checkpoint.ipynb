{
 "cells": [
  {
   "cell_type": "markdown",
   "id": "4e750cd2",
   "metadata": {},
   "source": [
    "# 리스트 (List)_20221027\n",
    "### - 리스트 저장 형태"
   ]
  },
  {
   "cell_type": "code",
   "execution_count": 4,
   "id": "75276227",
   "metadata": {},
   "outputs": [
    {
     "name": "stdout",
     "output_type": "stream",
     "text": [
      "['베드로', '요한', '야고보']\n",
      "<class 'list'>\n"
     ]
    }
   ],
   "source": [
    "a = [\"베드로\", \"요한\", \"야고보\"]\n",
    "print(a)\n",
    "print(type(a))"
   ]
  },
  {
   "cell_type": "code",
   "execution_count": 12,
   "id": "7e8a82e4",
   "metadata": {},
   "outputs": [
    {
     "name": "stdout",
     "output_type": "stream",
     "text": [
      "베드로\n",
      "요한\n",
      "야고보\n"
     ]
    }
   ],
   "source": [
    "# 데이터 접근\n",
    "print(a[0])\n",
    "print(a[1])\n",
    "print(a[2])\n",
    "# print(a[3]) : IndexError"
   ]
  },
  {
   "cell_type": "code",
   "execution_count": 19,
   "id": "e32540a9",
   "metadata": {},
   "outputs": [
    {
     "name": "stdout",
     "output_type": "stream",
     "text": [
      "[1, 2, 3, 4, 5]\n",
      "[6, 7, 8, 9, 10]\n",
      "[4, 5, 6]\n"
     ]
    }
   ],
   "source": [
    "# 슬라이싱 기능\n",
    "x = [1,2,3,4,5,6,7,8,9,10]\n",
    "print(x[0:5]) # 0,1,2,3,4까지만 데이터를 가져와라\n",
    "print(x[5:])\n",
    "print(x[3:6])\n",
    "# print(x[3:6, 7]) # TypeError, R에서는 가능했었다."
   ]
  },
  {
   "cell_type": "code",
   "execution_count": 35,
   "id": "6b3266b3",
   "metadata": {},
   "outputs": [
    {
     "name": "stdout",
     "output_type": "stream",
     "text": [
      "[1, 2, 3, 4, 5, 6, 7, 8, 9, 10]\n"
     ]
    }
   ],
   "source": [
    "# '+' 연산자를 통한 리스트간의 결합 가능.\n",
    "x = [1,2,3,4,5]\n",
    "y = [6,7,8,9,10]\n",
    "print(x + y)"
   ]
  },
  {
   "cell_type": "code",
   "execution_count": 30,
   "id": "018950c5",
   "metadata": {},
   "outputs": [
    {
     "name": "stdout",
     "output_type": "stream",
     "text": [
      "[1, 2, 888, 4, 5]\n",
      "5\n"
     ]
    }
   ],
   "source": [
    "# 특정 위치에 있는 데이터를 변경.\n",
    "x = [1,2,3,4,5]\n",
    "x[2] = 888\n",
    "print(x)\n",
    "print(len(x))"
   ]
  },
  {
   "cell_type": "code",
   "execution_count": 31,
   "id": "50ee040f",
   "metadata": {},
   "outputs": [
    {
     "name": "stdout",
     "output_type": "stream",
     "text": [
      "[1, 2, 888, 4]\n"
     ]
    }
   ],
   "source": [
    "# 리스트에서 항목 삭제하기\n",
    "del x[4]\n",
    "print(x)"
   ]
  },
  {
   "cell_type": "code",
   "execution_count": 32,
   "id": "35fdfaf1",
   "metadata": {},
   "outputs": [
    {
     "name": "stdout",
     "output_type": "stream",
     "text": [
      "[1, 3, 5, 7]\n"
     ]
    }
   ],
   "source": [
    "x = [1,3,5]\n",
    "x.append(7)\n",
    "print(x)"
   ]
  },
  {
   "cell_type": "code",
   "execution_count": 36,
   "id": "da6fcbbc",
   "metadata": {},
   "outputs": [
    {
     "name": "stdout",
     "output_type": "stream",
     "text": [
      "[1, 2, 3, 4, 5, 9, 11, 13]\n"
     ]
    }
   ],
   "source": [
    "y = [9,11,13]\n",
    "x.extend(y)\n",
    "print(x)"
   ]
  },
  {
   "cell_type": "code",
   "execution_count": 37,
   "id": "ea76c66f",
   "metadata": {},
   "outputs": [
    {
     "name": "stdout",
     "output_type": "stream",
     "text": [
      "[1, 777, 2, 3, 4, 5, 9, 11, 13]\n"
     ]
    }
   ],
   "source": [
    "x.insert(1,777) # 1의 위치에다가 777숫자를 삽입.\n",
    "print(x)"
   ]
  },
  {
   "cell_type": "code",
   "execution_count": 38,
   "id": "bc57758a",
   "metadata": {},
   "outputs": [
    {
     "name": "stdout",
     "output_type": "stream",
     "text": [
      "[1, 777, 2, 3, 4, 5, 9, 13]\n"
     ]
    }
   ],
   "source": [
    "x.remove(11) # 삭제 값 지장\n",
    "print(x)"
   ]
  },
  {
   "cell_type": "code",
   "execution_count": 39,
   "id": "a2c7b38e",
   "metadata": {},
   "outputs": [
    {
     "ename": "ValueError",
     "evalue": "list.remove(x): x not in list",
     "output_type": "error",
     "traceback": [
      "\u001b[1;31m---------------------------------------------------------------------------\u001b[0m",
      "\u001b[1;31mValueError\u001b[0m                                Traceback (most recent call last)",
      "\u001b[1;32m~\\AppData\\Local\\Temp\\ipykernel_9648\\1217536138.py\u001b[0m in \u001b[0;36m<module>\u001b[1;34m\u001b[0m\n\u001b[1;32m----> 1\u001b[1;33m \u001b[0mx\u001b[0m\u001b[1;33m.\u001b[0m\u001b[0mremove\u001b[0m\u001b[1;33m(\u001b[0m\u001b[1;36m11\u001b[0m\u001b[1;33m)\u001b[0m\u001b[1;33m\u001b[0m\u001b[1;33m\u001b[0m\u001b[0m\n\u001b[0m",
      "\u001b[1;31mValueError\u001b[0m: list.remove(x): x not in list"
     ]
    }
   ],
   "source": [
    "x.remove(11) # ValueError"
   ]
  },
  {
   "cell_type": "code",
   "execution_count": 41,
   "id": "e0525add",
   "metadata": {},
   "outputs": [
    {
     "name": "stdout",
     "output_type": "stream",
     "text": [
      "[1, 3, 4, 5, 9, 13]\n"
     ]
    }
   ],
   "source": [
    "x.pop(1) # 인덱스 지정. # 꺼내오고 나서 나머지 값만이 담겨짐\n",
    "print(x)"
   ]
  },
  {
   "cell_type": "code",
   "execution_count": 42,
   "id": "0fdf1448",
   "metadata": {},
   "outputs": [
    {
     "name": "stdout",
     "output_type": "stream",
     "text": [
      "2\n"
     ]
    }
   ],
   "source": [
    "x = ['abc', 'def', 'ghi'] # 0:'abc', 1:'def', 2:'ghi'\n",
    "print(x.index('ghi'))"
   ]
  },
  {
   "cell_type": "code",
   "execution_count": 43,
   "id": "a818a1b6",
   "metadata": {},
   "outputs": [
    {
     "ename": "ValueError",
     "evalue": "'xyz' is not in list",
     "output_type": "error",
     "traceback": [
      "\u001b[1;31m---------------------------------------------------------------------------\u001b[0m",
      "\u001b[1;31mValueError\u001b[0m                                Traceback (most recent call last)",
      "\u001b[1;32m~\\AppData\\Local\\Temp\\ipykernel_9648\\88705453.py\u001b[0m in \u001b[0;36m<module>\u001b[1;34m\u001b[0m\n\u001b[1;32m----> 1\u001b[1;33m \u001b[0mprint\u001b[0m\u001b[1;33m(\u001b[0m\u001b[0mx\u001b[0m\u001b[1;33m.\u001b[0m\u001b[0mindex\u001b[0m\u001b[1;33m(\u001b[0m\u001b[1;34m'xyz'\u001b[0m\u001b[1;33m)\u001b[0m\u001b[1;33m)\u001b[0m\u001b[1;33m\u001b[0m\u001b[1;33m\u001b[0m\u001b[0m\n\u001b[0m",
      "\u001b[1;31mValueError\u001b[0m: 'xyz' is not in list"
     ]
    }
   ],
   "source": [
    "print(x.index('xyz')) # ValueError"
   ]
  },
  {
   "cell_type": "code",
   "execution_count": 2,
   "id": "7b0f64c9",
   "metadata": {},
   "outputs": [
    {
     "name": "stdout",
     "output_type": "stream",
     "text": [
      "2\n"
     ]
    }
   ],
   "source": [
    "x = [1, 888, 2, 777, 3, 888, 4, 100, 100]\n",
    "print(x.count(100))"
   ]
  },
  {
   "cell_type": "code",
   "execution_count": 4,
   "id": "d9c77aa4",
   "metadata": {},
   "outputs": [
    {
     "name": "stdout",
     "output_type": "stream",
     "text": [
      "[2, 4, 5, 7, 9]\n"
     ]
    }
   ],
   "source": [
    "x = [7,5,9,4,2] # sort는 결과값만 리턴해주지 않음\n",
    "x.sort() # 정렬하기\n",
    "print(x) # 정렬 후 자료값까지 변경해줌."
   ]
  },
  {
   "cell_type": "code",
   "execution_count": 5,
   "id": "c0398e24",
   "metadata": {},
   "outputs": [
    {
     "name": "stdout",
     "output_type": "stream",
     "text": [
      "[9, 7, 5, 4, 2]\n"
     ]
    }
   ],
   "source": [
    "x.sort(reverse=True) # 내림차순 = reverse\n",
    "print(x)"
   ]
  },
  {
   "cell_type": "code",
   "execution_count": 6,
   "id": "071f075d",
   "metadata": {},
   "outputs": [
    {
     "name": "stdout",
     "output_type": "stream",
     "text": [
      "[2, 4, 9, 5, 7]\n"
     ]
    }
   ],
   "source": [
    "x = [7,5,9,4,2] \n",
    "x.reverse() # 말 그대로 그냥 역순\n",
    "print(x) "
   ]
  },
  {
   "cell_type": "markdown",
   "id": "2aea7072",
   "metadata": {},
   "source": [
    "# 튜플()_20221027"
   ]
  },
  {
   "cell_type": "code",
   "execution_count": 9,
   "id": "66c2e238",
   "metadata": {},
   "outputs": [
    {
     "name": "stdout",
     "output_type": "stream",
     "text": [
      "(1, 2, 3)\n"
     ]
    },
    {
     "data": {
      "text/plain": [
       "tuple"
      ]
     },
     "execution_count": 9,
     "metadata": {},
     "output_type": "execute_result"
    }
   ],
   "source": [
    "x = (1,2,3)\n",
    "print(x)\n",
    "type(x) # tuple - 소괄호 열고 닫고 하는 구조"
   ]
  },
  {
   "cell_type": "code",
   "execution_count": 12,
   "id": "319b6ea4",
   "metadata": {},
   "outputs": [
    {
     "name": "stdout",
     "output_type": "stream",
     "text": [
      "(1, 2, 3, 4)\n"
     ]
    },
    {
     "data": {
      "text/plain": [
       "tuple"
      ]
     },
     "execution_count": 12,
     "metadata": {},
     "output_type": "execute_result"
    }
   ],
   "source": [
    "x = 1,2,3,4\n",
    "print(x)\n",
    "type(x)"
   ]
  },
  {
   "cell_type": "code",
   "execution_count": 15,
   "id": "f1160d5f",
   "metadata": {},
   "outputs": [
    {
     "name": "stdout",
     "output_type": "stream",
     "text": [
      "1\n"
     ]
    },
    {
     "data": {
      "text/plain": [
       "int"
      ]
     },
     "execution_count": 15,
     "metadata": {},
     "output_type": "execute_result"
    }
   ],
   "source": [
    "# 주의\n",
    "x = (1) # int\n",
    "print(x)\n",
    "type(x) # x에 소괄호를 넣었음에도 불구하고 int로 반환됨."
   ]
  },
  {
   "cell_type": "code",
   "execution_count": 17,
   "id": "84990d70",
   "metadata": {},
   "outputs": [
    {
     "name": "stdout",
     "output_type": "stream",
     "text": [
      "(1,)\n"
     ]
    },
    {
     "data": {
      "text/plain": [
       "tuple"
      ]
     },
     "execution_count": 17,
     "metadata": {},
     "output_type": "execute_result"
    }
   ],
   "source": [
    "x = (1,) # ,를 넣지 않는다면 int가 되어버림\n",
    "print(x)\n",
    "type(x)"
   ]
  },
  {
   "cell_type": "code",
   "execution_count": 18,
   "id": "e9ae01ae",
   "metadata": {},
   "outputs": [
    {
     "name": "stdout",
     "output_type": "stream",
     "text": [
      "(1,)\n"
     ]
    },
    {
     "data": {
      "text/plain": [
       "tuple"
      ]
     },
     "execution_count": 18,
     "metadata": {},
     "output_type": "execute_result"
    }
   ],
   "source": [
    "x = 1,\n",
    "print(x)\n",
    "type(x)"
   ]
  },
  {
   "cell_type": "code",
   "execution_count": 23,
   "id": "8fe4ed1b",
   "metadata": {},
   "outputs": [
    {
     "name": "stdout",
     "output_type": "stream",
     "text": [
      "(3, 4, 5)\n",
      "(1, 2)\n",
      "(5, 6)\n",
      "5\n"
     ]
    }
   ],
   "source": [
    "# tuple도 슬라이싱이 가능하다\n",
    "x = (1,2,3,4,5,6)\n",
    "print(x[2:5])\n",
    "print(x[:2])\n",
    "print(x[4:])\n",
    "print(x[4])"
   ]
  },
  {
   "cell_type": "code",
   "execution_count": 24,
   "id": "5a01470c",
   "metadata": {},
   "outputs": [
    {
     "data": {
      "text/plain": [
       "(1, 2, 3, 4, 5, 6)"
      ]
     },
     "execution_count": 24,
     "metadata": {},
     "output_type": "execute_result"
    }
   ],
   "source": [
    "# '+' 연산자를 통한 튜플 간의 결합 가능\n",
    "m = (1,2,3)\n",
    "n = (4,5,6)\n",
    "\n",
    "m + n"
   ]
  },
  {
   "cell_type": "code",
   "execution_count": 27,
   "id": "dd840128",
   "metadata": {},
   "outputs": [
    {
     "name": "stdout",
     "output_type": "stream",
     "text": [
      "2\n"
     ]
    },
    {
     "ename": "TypeError",
     "evalue": "'tuple' object does not support item assignment",
     "output_type": "error",
     "traceback": [
      "\u001b[1;31m---------------------------------------------------------------------------\u001b[0m",
      "\u001b[1;31mTypeError\u001b[0m                                 Traceback (most recent call last)",
      "\u001b[1;32m~\\AppData\\Local\\Temp\\ipykernel_10444\\2415895351.py\u001b[0m in \u001b[0;36m<module>\u001b[1;34m\u001b[0m\n\u001b[0;32m      1\u001b[0m \u001b[0mprint\u001b[0m\u001b[1;33m(\u001b[0m\u001b[0mm\u001b[0m\u001b[1;33m[\u001b[0m\u001b[1;36m1\u001b[0m\u001b[1;33m]\u001b[0m\u001b[1;33m)\u001b[0m\u001b[1;33m\u001b[0m\u001b[1;33m\u001b[0m\u001b[0m\n\u001b[1;32m----> 2\u001b[1;33m \u001b[0mm\u001b[0m\u001b[1;33m[\u001b[0m\u001b[1;36m1\u001b[0m\u001b[1;33m]\u001b[0m \u001b[1;33m=\u001b[0m \u001b[1;36m888\u001b[0m\u001b[1;33m\u001b[0m\u001b[1;33m\u001b[0m\u001b[0m\n\u001b[0m",
      "\u001b[1;31mTypeError\u001b[0m: 'tuple' object does not support item assignment"
     ]
    }
   ],
   "source": [
    "print(m[1])\n",
    "m[1] = 888 # TypeError # tuple은 한번 입력하면 더이상 배정이 안 된다. 고정된다. # tuple의 특징"
   ]
  },
  {
   "cell_type": "code",
   "execution_count": 30,
   "id": "3335db1d",
   "metadata": {},
   "outputs": [
    {
     "ename": "AttributeError",
     "evalue": "'tuple' object has no attribute 'append'",
     "output_type": "error",
     "traceback": [
      "\u001b[1;31m---------------------------------------------------------------------------\u001b[0m",
      "\u001b[1;31mAttributeError\u001b[0m                            Traceback (most recent call last)",
      "\u001b[1;32m~\\AppData\\Local\\Temp\\ipykernel_10444\\705455870.py\u001b[0m in \u001b[0;36m<module>\u001b[1;34m\u001b[0m\n\u001b[0;32m      1\u001b[0m \u001b[0mm\u001b[0m \u001b[1;33m=\u001b[0m \u001b[1;33m(\u001b[0m\u001b[1;36m1\u001b[0m\u001b[1;33m,\u001b[0m\u001b[1;36m2\u001b[0m\u001b[1;33m,\u001b[0m\u001b[1;36m3\u001b[0m\u001b[1;33m)\u001b[0m\u001b[1;33m\u001b[0m\u001b[1;33m\u001b[0m\u001b[0m\n\u001b[1;32m----> 2\u001b[1;33m \u001b[0mm\u001b[0m\u001b[1;33m.\u001b[0m\u001b[0mappend\u001b[0m\u001b[1;33m(\u001b[0m\u001b[1;36m888\u001b[0m\u001b[1;33m)\u001b[0m \u001b[1;31m# error - 메서드 지원 x.\u001b[0m\u001b[1;33m\u001b[0m\u001b[1;33m\u001b[0m\u001b[0m\n\u001b[0m",
      "\u001b[1;31mAttributeError\u001b[0m: 'tuple' object has no attribute 'append'"
     ]
    }
   ],
   "source": [
    "m = (1,2,3)\n",
    "m.append(888) # error - 메서드 지원 x. # 'tuple' object has no attribute 'append'"
   ]
  },
  {
   "cell_type": "markdown",
   "id": "2ac2d214",
   "metadata": {},
   "source": [
    "## - 튜플 제공 메서드_20221027"
   ]
  },
  {
   "cell_type": "code",
   "execution_count": 31,
   "id": "e538c520",
   "metadata": {},
   "outputs": [
    {
     "name": "stdout",
     "output_type": "stream",
     "text": [
      "2\n"
     ]
    }
   ],
   "source": [
    "x = ('abc', 'def', 'ghi')\n",
    "print(x.index('ghi'))"
   ]
  },
  {
   "cell_type": "code",
   "execution_count": 32,
   "id": "217e116b",
   "metadata": {},
   "outputs": [
    {
     "name": "stdout",
     "output_type": "stream",
     "text": [
      "1\n"
     ]
    }
   ],
   "source": [
    "x = (1, 888, 2, 777, 3, 300)\n",
    "print(x.count(888))"
   ]
  },
  {
   "cell_type": "code",
   "execution_count": 33,
   "id": "deffceb3",
   "metadata": {},
   "outputs": [
    {
     "name": "stdout",
     "output_type": "stream",
     "text": [
      "(1, 2, 3)\n"
     ]
    }
   ],
   "source": [
    "# tuple packing(튜플 패킹): 여러 가지 데이터를 튜플로 묶는 것\n",
    "x = 1,2,3\n",
    "print(x)"
   ]
  },
  {
   "cell_type": "code",
   "execution_count": 36,
   "id": "f89e5426",
   "metadata": {},
   "outputs": [
    {
     "name": "stdout",
     "output_type": "stream",
     "text": [
      "Seoul\n",
      "37.541\n",
      "126.986\n"
     ]
    }
   ],
   "source": [
    "# tuple unpacking(튜플 언패킹): 각 요소를 어러 개의 변수에 할당하는 것.\n",
    "data = 'Seoul', 37.541, 126.986 # 지역/경도/위도\n",
    "\n",
    "city, latitude, longitude = data\n",
    "\n",
    "print(city)\n",
    "print(latitude)\n",
    "print(longitude)"
   ]
  },
  {
   "cell_type": "markdown",
   "id": "83690497",
   "metadata": {},
   "source": [
    "## 딕셔너리(Dictionary)"
   ]
  },
  {
   "cell_type": "code",
   "execution_count": 42,
   "id": "a383a493",
   "metadata": {},
   "outputs": [
    {
     "name": "stdout",
     "output_type": "stream",
     "text": [
      "{'애플': 'www.apple.com', '네이버': 'www.naver.com', '파이썬': 'www.python.org'}\n",
      "<class 'dict'>\n"
     ]
    }
   ],
   "source": [
    "dic = {\"애플\":\"www.apple.com\", \"네이버\":\"www.naver.com\", \"파이썬\":\"www.python.org\"} # 중괄호는 딕셔너리, 소괄호는 튜플, 대괄호는 리스트 # JAVA의 map과 같은 역할 # key, value # 자바스크립트의 객체와 비슷함.\n",
    "print(dic)\n",
    "print(type(dic))"
   ]
  },
  {
   "cell_type": "code",
   "execution_count": 53,
   "id": "d42ca1a1",
   "metadata": {},
   "outputs": [
    {
     "name": "stdout",
     "output_type": "stream",
     "text": [
      "www.naver.com\n"
     ]
    }
   ],
   "source": [
    "# 데이터 접근 방법\n",
    "print(dic['네이버'])\n",
    "# print(dic['애플':'파이썬']) # error"
   ]
  },
  {
   "cell_type": "code",
   "execution_count": 56,
   "id": "92977c8e",
   "metadata": {},
   "outputs": [
    {
     "name": "stdout",
     "output_type": "stream",
     "text": [
      "<class 'dict'>\n",
      "{'애플': 'www.apple.com', '네이버': 'www.naver.com'}\n"
     ]
    }
   ],
   "source": [
    "# 데이터 삽입\n",
    "dic2 = {}\n",
    "print(type(dic2))\n",
    "\n",
    "dic2['애플'] = 'www.apple.com'\n",
    "dic2['네이버'] = 'www.naver.com'\n",
    "\n",
    "print(dic2)"
   ]
  },
  {
   "cell_type": "markdown",
   "id": "deeeb443",
   "metadata": {},
   "source": [
    "## - 딕셔너리 제공 메서드"
   ]
  },
  {
   "cell_type": "code",
   "execution_count": 57,
   "id": "586b3ae8",
   "metadata": {},
   "outputs": [
    {
     "name": "stdout",
     "output_type": "stream",
     "text": [
      "dict_keys(['애플', '네이버', '파이썬'])\n"
     ]
    }
   ],
   "source": [
    "print(dic.keys())"
   ]
  },
  {
   "cell_type": "code",
   "execution_count": 59,
   "id": "c8cd15d3",
   "metadata": {},
   "outputs": [
    {
     "name": "stdout",
     "output_type": "stream",
     "text": [
      "dict_values(['www.apple.com', 'www.naver.com', 'www.python.org'])\n"
     ]
    }
   ],
   "source": [
    "print(dic.values()) # 리스트 형태로 반환해줌"
   ]
  },
  {
   "cell_type": "code",
   "execution_count": 60,
   "id": "905d98c6",
   "metadata": {},
   "outputs": [
    {
     "name": "stdout",
     "output_type": "stream",
     "text": [
      "dict_items([('애플', 'www.apple.com'), ('네이버', 'www.naver.com'), ('파이썬', 'www.python.org')])\n"
     ]
    }
   ],
   "source": [
    "print(dic.items()) # key, values를 한꺼번에 볼 수 있다."
   ]
  },
  {
   "cell_type": "code",
   "execution_count": 62,
   "id": "a436c942",
   "metadata": {},
   "outputs": [
    {
     "name": "stdout",
     "output_type": "stream",
     "text": [
      "True\n",
      "False\n"
     ]
    }
   ],
   "source": [
    "print(\"애플\" in dic.keys())\n",
    "print(\"다음\" in dic.keys())"
   ]
  },
  {
   "cell_type": "code",
   "execution_count": 65,
   "id": "383188b6",
   "metadata": {},
   "outputs": [
    {
     "name": "stdout",
     "output_type": "stream",
     "text": [
      "True\n",
      "False\n"
     ]
    }
   ],
   "source": [
    "print('www.naver.com' in dic.values())\n",
    "print('www.daum.net' in dic.values())"
   ]
  },
  {
   "cell_type": "code",
   "execution_count": 66,
   "id": "1049edb2",
   "metadata": {},
   "outputs": [
    {
     "name": "stdout",
     "output_type": "stream",
     "text": [
      "www.apple.com\n",
      "{'네이버': 'www.naver.com', '파이썬': 'www.python.org'}\n"
     ]
    }
   ],
   "source": [
    "# 데이터 제거\n",
    "print(dic.pop('애플')) # 삭제할 때는 key로 접근해야함.\n",
    "print(dic)"
   ]
  },
  {
   "cell_type": "code",
   "execution_count": 67,
   "id": "f8870842",
   "metadata": {},
   "outputs": [
    {
     "name": "stdout",
     "output_type": "stream",
     "text": [
      "{}\n"
     ]
    }
   ],
   "source": [
    "# 데이터 완전 삭제.clear\n",
    "dic.clear()\n",
    "print(dic)"
   ]
  },
  {
   "cell_type": "code",
   "execution_count": null,
   "id": "943fd35e",
   "metadata": {},
   "outputs": [],
   "source": []
  }
 ],
 "metadata": {
  "kernelspec": {
   "display_name": "Python 3 (ipykernel)",
   "language": "python",
   "name": "python3"
  },
  "language_info": {
   "codemirror_mode": {
    "name": "ipython",
    "version": 3
   },
   "file_extension": ".py",
   "mimetype": "text/x-python",
   "name": "python",
   "nbconvert_exporter": "python",
   "pygments_lexer": "ipython3",
   "version": "3.7.13"
  }
 },
 "nbformat": 4,
 "nbformat_minor": 5
}
