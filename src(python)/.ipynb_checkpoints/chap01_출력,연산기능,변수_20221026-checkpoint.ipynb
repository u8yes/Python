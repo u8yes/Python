{
 "cells": [
  {
   "cell_type": "markdown",
   "id": "fb7c9532",
   "metadata": {},
   "source": [
    "# chap01_20221026\n",
    "## python 기본 문법\n",
    "### - 출력문"
   ]
  },
  {
   "cell_type": "code",
   "execution_count": 12,
   "id": "572252e1",
   "metadata": {},
   "outputs": [
    {
     "name": "stdout",
     "output_type": "stream",
     "text": [
      "in the name of Jesus Christ\n"
     ]
    }
   ],
   "source": [
    "print(\"in the name of Jesus Christ\") # 출력 명령문"
   ]
  },
  {
   "cell_type": "code",
   "execution_count": null,
   "id": "554ebe05",
   "metadata": {},
   "outputs": [],
   "source": []
  },
  {
   "cell_type": "code",
   "execution_count": 22,
   "id": "7ed8c210",
   "metadata": {},
   "outputs": [
    {
     "name": "stdout",
     "output_type": "stream",
     "text": [
      "Hello, World!!Happy Jesus Name\n",
      "Hello, World!! Happy Jesus Name\n"
     ]
    }
   ],
   "source": [
    "print(\"Hello, World!!\" + \"Happy Jesus Name\")\n",
    "print(\"Hello, World!!\",\"Happy Jesus Name\") # 띄어쓰기 자동 입력됨"
   ]
  },
  {
   "cell_type": "code",
   "execution_count": null,
   "id": "b8268f81",
   "metadata": {},
   "outputs": [],
   "source": []
  },
  {
   "cell_type": "code",
   "execution_count": null,
   "id": "034bb1d9",
   "metadata": {},
   "outputs": [],
   "source": []
  },
  {
   "cell_type": "markdown",
   "id": "7ee5de25",
   "metadata": {},
   "source": [
    "### - 연산기능( + , - , * , / )"
   ]
  },
  {
   "cell_type": "code",
   "execution_count": 25,
   "id": "8872e6a1",
   "metadata": {},
   "outputs": [
    {
     "data": {
      "text/plain": [
       "5"
      ]
     },
     "execution_count": 25,
     "metadata": {},
     "output_type": "execute_result"
    }
   ],
   "source": [
    "3 + 2"
   ]
  },
  {
   "cell_type": "code",
   "execution_count": 31,
   "id": "62a8c24f",
   "metadata": {},
   "outputs": [
    {
     "name": "stdout",
     "output_type": "stream",
     "text": [
      "3.14\n",
      "3.14\n"
     ]
    }
   ],
   "source": [
    "print(3.14)\n",
    "print(\"3.14\")"
   ]
  },
  {
   "cell_type": "code",
   "execution_count": 53,
   "id": "447b46c0",
   "metadata": {},
   "outputs": [
    {
     "name": "stdout",
     "output_type": "stream",
     "text": [
      "1 3.18 시몬아!!!\n"
     ]
    }
   ],
   "source": [
    "print(1, 3.18, \"시몬아!!!\")"
   ]
  },
  {
   "cell_type": "markdown",
   "id": "cf0de33a",
   "metadata": {},
   "source": [
    "# - 변수"
   ]
  },
  {
   "cell_type": "code",
   "execution_count": 41,
   "id": "8680d413",
   "metadata": {},
   "outputs": [],
   "source": [
    "# 자바 : int, double, char, boolean, String\n",
    "# Integer a = Integer(5);\n",
    "# Integer a = 5;\n",
    "a = 5\n",
    "b = 10"
   ]
  },
  {
   "cell_type": "code",
   "execution_count": 43,
   "id": "16aa1c97",
   "metadata": {},
   "outputs": [
    {
     "data": {
      "text/plain": [
       "15"
      ]
     },
     "execution_count": 43,
     "metadata": {},
     "output_type": "execute_result"
    }
   ],
   "source": [
    "a+b"
   ]
  },
  {
   "cell_type": "code",
   "execution_count": 48,
   "id": "35d6c855",
   "metadata": {},
   "outputs": [
    {
     "name": "stdout",
     "output_type": "stream",
     "text": [
      "10 20\n"
     ]
    }
   ],
   "source": [
    "# int num1 = 10, num2 = 20;\n",
    "x = 10 \n",
    "y = 20\n",
    "print(x, y)"
   ]
  },
  {
   "cell_type": "code",
   "execution_count": 50,
   "id": "5b6ba4b4",
   "metadata": {},
   "outputs": [
    {
     "name": "stdout",
     "output_type": "stream",
     "text": [
      "777 888\n"
     ]
    }
   ],
   "source": [
    "x, y = 777, 888\n",
    "print(x, y)"
   ]
  },
  {
   "cell_type": "code",
   "execution_count": 51,
   "id": "82c0f197",
   "metadata": {},
   "outputs": [
    {
     "name": "stdout",
     "output_type": "stream",
     "text": [
      "888 777\n"
     ]
    }
   ],
   "source": [
    "x, y = y, x\n",
    "print(x, y)"
   ]
  },
  {
   "cell_type": "code",
   "execution_count": null,
   "id": "c5e423fa",
   "metadata": {},
   "outputs": [],
   "source": []
  }
 ],
 "metadata": {
  "kernelspec": {
   "display_name": "Python 3 (ipykernel)",
   "language": "python",
   "name": "python3"
  },
  "language_info": {
   "codemirror_mode": {
    "name": "ipython",
    "version": 3
   },
   "file_extension": ".py",
   "mimetype": "text/x-python",
   "name": "python",
   "nbconvert_exporter": "python",
   "pygments_lexer": "ipython3",
   "version": "3.7.13"
  }
 },
 "nbformat": 4,
 "nbformat_minor": 5
}
